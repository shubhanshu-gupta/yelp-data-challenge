{
 "cells": [
  {
   "cell_type": "code",
   "execution_count": 2,
   "metadata": {
    "collapsed": true
   },
   "outputs": [],
   "source": [
    "import json\n",
    "import string\n",
    "import pandas as pd\n",
    "import numpy as np\n",
    "import matplotlib.pyplot as plt"
   ]
  },
  {
   "cell_type": "code",
   "execution_count": 3,
   "metadata": {
    "collapsed": true
   },
   "outputs": [],
   "source": [
    "data_one = []\n",
    "# data_two = []\n",
    "# data_three = []\n",
    "# data_four = []\n",
    "reviewdata_df = []"
   ]
  },
  {
   "cell_type": "code",
   "execution_count": 4,
   "metadata": {
    "collapsed": true
   },
   "outputs": [],
   "source": [
    "data_file = open('F:\\yelp\\yelp_academic_dataset_review.json')\n",
    "length = 2225213  # I calculated length prior to this calculation\n",
    "for i, line in enumerate(data_file):\n",
    "    if i<(length/4):\n",
    "        data_one.append(json.loads(line))\n",
    "data_file.close()"
   ]
  },
  {
   "cell_type": "code",
   "execution_count": 5,
   "metadata": {
    "collapsed": true
   },
   "outputs": [],
   "source": [
    "df = pd.DataFrame(data_one)"
   ]
  },
  {
   "cell_type": "code",
   "execution_count": 23,
   "metadata": {
    "collapsed": false
   },
   "outputs": [
    {
     "data": {
      "text/plain": [
       "(556303, 8)"
      ]
     },
     "execution_count": 23,
     "metadata": {},
     "output_type": "execute_result"
    }
   ],
   "source": [
    "df.shape"
   ]
  },
  {
   "cell_type": "code",
   "execution_count": 6,
   "metadata": {
    "collapsed": true
   },
   "outputs": [],
   "source": [
    "data_main = []\n",
    "with open('F:\\yelp\\yelp_academic_dataset_user.json') as f:\n",
    "    for line in f:\n",
    "        data_main.append(json.loads(line))"
   ]
  },
  {
   "cell_type": "code",
   "execution_count": 7,
   "metadata": {
    "collapsed": true
   },
   "outputs": [],
   "source": [
    "df_user = pd.DataFrame(data_main)"
   ]
  },
  {
   "cell_type": "code",
   "execution_count": 8,
   "metadata": {
    "collapsed": true
   },
   "outputs": [],
   "source": [
    "def user_with_friends(x):\n",
    "    if len(x['friends']) != 0:\n",
    "        return x"
   ]
  },
  {
   "cell_type": "code",
   "execution_count": 17,
   "metadata": {
    "collapsed": true
   },
   "outputs": [],
   "source": [
    "df_user_with_friends = df_user.apply(user_with_friends, axis=1)"
   ]
  },
  {
   "cell_type": "code",
   "execution_count": 18,
   "metadata": {
    "collapsed": false
   },
   "outputs": [],
   "source": [
    "# if len(yo_df['friends']) == 0:\n",
    "#     print \"yo\"\n",
    "df_user_with_friends = df_user_with_friends.dropna()\n"
   ]
  },
  {
   "cell_type": "code",
   "execution_count": 21,
   "metadata": {
    "collapsed": false
   },
   "outputs": [
    {
     "data": {
      "text/plain": [
       "(552339, 11)"
      ]
     },
     "execution_count": 21,
     "metadata": {},
     "output_type": "execute_result"
    }
   ],
   "source": [
    "df_user.shape\n"
   ]
  },
  {
   "cell_type": "code",
   "execution_count": 22,
   "metadata": {
    "collapsed": false
   },
   "outputs": [
    {
     "data": {
      "text/plain": [
       "(249440, 11)"
      ]
     },
     "execution_count": 22,
     "metadata": {},
     "output_type": "execute_result"
    }
   ],
   "source": [
    "df_user_with_friends.shape"
   ]
  },
  {
   "cell_type": "code",
   "execution_count": 24,
   "metadata": {
    "collapsed": true
   },
   "outputs": [],
   "source": [
    "merged_df = pd.merge(df, df_user_with_friends, on='user_id', how='inner')"
   ]
  },
  {
   "cell_type": "code",
   "execution_count": 25,
   "metadata": {
    "collapsed": false
   },
   "outputs": [
    {
     "data": {
      "text/html": [
       "<div>\n",
       "<table border=\"1\" class=\"dataframe\">\n",
       "  <thead>\n",
       "    <tr style=\"text-align: right;\">\n",
       "      <th></th>\n",
       "      <th>business_id</th>\n",
       "      <th>date</th>\n",
       "      <th>review_id</th>\n",
       "      <th>stars</th>\n",
       "      <th>text</th>\n",
       "      <th>type_x</th>\n",
       "      <th>user_id</th>\n",
       "      <th>votes_x</th>\n",
       "      <th>average_stars</th>\n",
       "      <th>compliments</th>\n",
       "      <th>elite</th>\n",
       "      <th>fans</th>\n",
       "      <th>friends</th>\n",
       "      <th>name</th>\n",
       "      <th>review_count</th>\n",
       "      <th>type_y</th>\n",
       "      <th>votes_y</th>\n",
       "      <th>yelping_since</th>\n",
       "    </tr>\n",
       "  </thead>\n",
       "  <tbody>\n",
       "    <tr>\n",
       "      <th>0</th>\n",
       "      <td>UsFtqoBl7naz8AVUBZMjQQ</td>\n",
       "      <td>2013-11-08</td>\n",
       "      <td>Di3exaUCFNw1V4kSNW5pgA</td>\n",
       "      <td>5</td>\n",
       "      <td>All the food is great here. But the best thing...</td>\n",
       "      <td>review</td>\n",
       "      <td>uK8tzraOp4M5u3uYrqIBXg</td>\n",
       "      <td>{u'funny': 0, u'useful': 0, u'cool': 0}</td>\n",
       "      <td>3.84</td>\n",
       "      <td>{}</td>\n",
       "      <td>[]</td>\n",
       "      <td>2</td>\n",
       "      <td>[53wSMIztehsjP-vJZBS54A, CXhOU5apSRSTtEUiyoqH3Q]</td>\n",
       "      <td>Robin</td>\n",
       "      <td>46</td>\n",
       "      <td>user</td>\n",
       "      <td>{u'funny': 2, u'useful': 36, u'cool': 5}</td>\n",
       "      <td>2013-05</td>\n",
       "    </tr>\n",
       "  </tbody>\n",
       "</table>\n",
       "</div>"
      ],
      "text/plain": [
       "              business_id        date               review_id  stars  \\\n",
       "0  UsFtqoBl7naz8AVUBZMjQQ  2013-11-08  Di3exaUCFNw1V4kSNW5pgA      5   \n",
       "\n",
       "                                                text  type_x  \\\n",
       "0  All the food is great here. But the best thing...  review   \n",
       "\n",
       "                  user_id                                  votes_x  \\\n",
       "0  uK8tzraOp4M5u3uYrqIBXg  {u'funny': 0, u'useful': 0, u'cool': 0}   \n",
       "\n",
       "   average_stars compliments elite  fans  \\\n",
       "0           3.84          {}    []     2   \n",
       "\n",
       "                                            friends   name  review_count  \\\n",
       "0  [53wSMIztehsjP-vJZBS54A, CXhOU5apSRSTtEUiyoqH3Q]  Robin            46   \n",
       "\n",
       "  type_y                                   votes_y yelping_since  \n",
       "0   user  {u'funny': 2, u'useful': 36, u'cool': 5}       2013-05  "
      ]
     },
     "execution_count": 25,
     "metadata": {},
     "output_type": "execute_result"
    }
   ],
   "source": [
    "merged_df.head(n=1)"
   ]
  },
  {
   "cell_type": "code",
   "execution_count": 26,
   "metadata": {
    "collapsed": false
   },
   "outputs": [
    {
     "data": {
      "text/plain": [
       "(394815, 18)"
      ]
     },
     "execution_count": 26,
     "metadata": {},
     "output_type": "execute_result"
    }
   ],
   "source": [
    "merged_df.shape"
   ]
  },
  {
   "cell_type": "code",
   "execution_count": 27,
   "metadata": {
    "collapsed": false
   },
   "outputs": [
    {
     "data": {
      "text/plain": [
       "2     36085\n",
       "1     38347\n",
       "3     63586\n",
       "4    124241\n",
       "5    132556\n",
       "Name: stars, dtype: int64"
      ]
     },
     "execution_count": 27,
     "metadata": {},
     "output_type": "execute_result"
    }
   ],
   "source": [
    "merged_df.stars.value_counts(ascending=True)"
   ]
  },
  {
   "cell_type": "code",
   "execution_count": 28,
   "metadata": {
    "collapsed": true
   },
   "outputs": [],
   "source": [
    "data_business = []\n",
    "with open('F:\\yelp\\yelp_academic_dataset_business.json') as f:\n",
    "    for line in f:\n",
    "        data_business.append(json.loads(line))"
   ]
  },
  {
   "cell_type": "code",
   "execution_count": 29,
   "metadata": {
    "collapsed": true
   },
   "outputs": [],
   "source": [
    "df_business = pd.DataFrame(data_business)"
   ]
  },
  {
   "cell_type": "code",
   "execution_count": 30,
   "metadata": {
    "collapsed": true
   },
   "outputs": [],
   "source": [
    "business_merged_df = pd.merge(merged_df, df_business, on='business_id', how='inner')"
   ]
  },
  {
   "cell_type": "code",
   "execution_count": 31,
   "metadata": {
    "collapsed": false
   },
   "outputs": [
    {
     "data": {
      "text/plain": [
       "(394815, 32)"
      ]
     },
     "execution_count": 31,
     "metadata": {},
     "output_type": "execute_result"
    }
   ],
   "source": [
    "business_merged_df.shape"
   ]
  },
  {
   "cell_type": "code",
   "execution_count": 32,
   "metadata": {
    "collapsed": true
   },
   "outputs": [],
   "source": [
    "business_merged_df.drop(['neighborhoods', 'latitude', 'longitude', 'elite', 'yelping_since', 'compliments', 'full_address', 'city', 'state', 'categories', 'open', 'hours', 'attributes'], axis=1, inplace=True)"
   ]
  },
  {
   "cell_type": "code",
   "execution_count": 33,
   "metadata": {
    "collapsed": false
   },
   "outputs": [
    {
     "data": {
      "text/html": [
       "<div>\n",
       "<table border=\"1\" class=\"dataframe\">\n",
       "  <thead>\n",
       "    <tr style=\"text-align: right;\">\n",
       "      <th></th>\n",
       "      <th>business_id</th>\n",
       "      <th>date</th>\n",
       "      <th>review_id</th>\n",
       "      <th>stars_x</th>\n",
       "      <th>text</th>\n",
       "      <th>type_x</th>\n",
       "      <th>user_id</th>\n",
       "      <th>votes_x</th>\n",
       "      <th>average_stars</th>\n",
       "      <th>fans</th>\n",
       "      <th>friends</th>\n",
       "      <th>name_x</th>\n",
       "      <th>review_count_x</th>\n",
       "      <th>type_y</th>\n",
       "      <th>votes_y</th>\n",
       "      <th>name_y</th>\n",
       "      <th>review_count_y</th>\n",
       "      <th>stars_y</th>\n",
       "      <th>type</th>\n",
       "    </tr>\n",
       "  </thead>\n",
       "  <tbody>\n",
       "    <tr>\n",
       "      <th>0</th>\n",
       "      <td>UsFtqoBl7naz8AVUBZMjQQ</td>\n",
       "      <td>2013-11-08</td>\n",
       "      <td>Di3exaUCFNw1V4kSNW5pgA</td>\n",
       "      <td>5</td>\n",
       "      <td>All the food is great here. But the best thing...</td>\n",
       "      <td>review</td>\n",
       "      <td>uK8tzraOp4M5u3uYrqIBXg</td>\n",
       "      <td>{u'funny': 0, u'useful': 0, u'cool': 0}</td>\n",
       "      <td>3.84</td>\n",
       "      <td>2</td>\n",
       "      <td>[53wSMIztehsjP-vJZBS54A, CXhOU5apSRSTtEUiyoqH3Q]</td>\n",
       "      <td>Robin</td>\n",
       "      <td>46</td>\n",
       "      <td>user</td>\n",
       "      <td>{u'funny': 2, u'useful': 36, u'cool': 5}</td>\n",
       "      <td>Clancy's Pub</td>\n",
       "      <td>4</td>\n",
       "      <td>3.5</td>\n",
       "      <td>business</td>\n",
       "    </tr>\n",
       "  </tbody>\n",
       "</table>\n",
       "</div>"
      ],
      "text/plain": [
       "              business_id        date               review_id  stars_x  \\\n",
       "0  UsFtqoBl7naz8AVUBZMjQQ  2013-11-08  Di3exaUCFNw1V4kSNW5pgA        5   \n",
       "\n",
       "                                                text  type_x  \\\n",
       "0  All the food is great here. But the best thing...  review   \n",
       "\n",
       "                  user_id                                  votes_x  \\\n",
       "0  uK8tzraOp4M5u3uYrqIBXg  {u'funny': 0, u'useful': 0, u'cool': 0}   \n",
       "\n",
       "   average_stars  fans                                           friends  \\\n",
       "0           3.84     2  [53wSMIztehsjP-vJZBS54A, CXhOU5apSRSTtEUiyoqH3Q]   \n",
       "\n",
       "  name_x  review_count_x type_y                                   votes_y  \\\n",
       "0  Robin              46   user  {u'funny': 2, u'useful': 36, u'cool': 5}   \n",
       "\n",
       "         name_y  review_count_y  stars_y      type  \n",
       "0  Clancy's Pub               4      3.5  business  "
      ]
     },
     "execution_count": 33,
     "metadata": {},
     "output_type": "execute_result"
    }
   ],
   "source": [
    "business_merged_df.head(n=1)"
   ]
  },
  {
   "cell_type": "code",
   "execution_count": 38,
   "metadata": {
    "collapsed": false
   },
   "outputs": [
    {
     "name": "stdout",
     "output_type": "stream",
     "text": [
      "0\n",
      "1\n",
      "2\n",
      "3\n",
      "4\n"
     ]
    }
   ],
   "source": [
    "for index, row in business_merged_df.head(n=5).iterrows():\n",
    "    if len(row['friends']) != 0:\n",
    "        print index"
   ]
  },
  {
   "cell_type": "code",
   "execution_count": 42,
   "metadata": {
    "collapsed": false
   },
   "outputs": [
    {
     "name": "stdout",
     "output_type": "stream",
     "text": [
      "0\n",
      "1\n",
      "2\n",
      "3\n",
      "4\n"
     ]
    }
   ],
   "source": [
    "for index, row in business_merged_df.head(n=5).iterrows():\n",
    "    print index"
   ]
  },
  {
   "cell_type": "code",
   "execution_count": 43,
   "metadata": {
    "collapsed": false
   },
   "outputs": [
    {
     "name": "stdout",
     "output_type": "stream",
     "text": [
      "1 loops, best of 3: 1.5 s per loop\n"
     ]
    },
    {
     "name": "stderr",
     "output_type": "stream",
     "text": [
      "F:\\PythonIDE\\lib\\site-packages\\ipykernel\\__main__.py:257: FutureWarning: by argument to sort_index is deprecated, pls use .sort_values(by=...)\n"
     ]
    }
   ],
   "source": [
    "%timeit business_sorted_df = business_merged_df.sort_index(by=['business_id'], ascending=[True])"
   ]
  },
  {
   "cell_type": "code",
   "execution_count": 61,
   "metadata": {
    "collapsed": false
   },
   "outputs": [
    {
     "name": "stdout",
     "output_type": "stream",
     "text": [
      "The business: UsFtqoBl7naz8AVUBZMjQQ has an avg rating of: 3.5\n",
      "User uK8tzraOp4M5u3uYrqIBXg rated UsFtqoBl7naz8AVUBZMjQQ with 5 stars. \n"
     ]
    }
   ],
   "source": [
    "#1 is b-id, 3 is review id, 4 is stars_x, 7 is user id, 11 friend ids, 18 is business rating\n",
    "for row in business_merged_df.head(n=1).itertuples():\n",
    "    print \"The business: \" + str(row[1]) + \" has an avg rating of: \" + str(row[18])\n",
    "    print \"User \" + str(row[7]) +\" rated \" + str(row[1]) + \" with \" + str(row[4]) + \" stars. \""
   ]
  },
  {
   "cell_type": "code",
   "execution_count": 1,
   "metadata": {
    "collapsed": false
   },
   "outputs": [
    {
     "ename": "NameError",
     "evalue": "name 'pd' is not defined",
     "output_type": "error",
     "traceback": [
      "\u001b[1;31m---------------------------------------------------------------------------\u001b[0m",
      "\u001b[1;31mNameError\u001b[0m                                 Traceback (most recent call last)",
      "\u001b[1;32m<ipython-input-1-6ed698f8fa53>\u001b[0m in \u001b[0;36m<module>\u001b[1;34m()\u001b[0m\n\u001b[1;32m----> 1\u001b[1;33m \u001b[0mnew_df\u001b[0m \u001b[1;33m=\u001b[0m \u001b[0mpd\u001b[0m\u001b[1;33m.\u001b[0m\u001b[0mDataFrame\u001b[0m\u001b[1;33m(\u001b[0m\u001b[1;33m)\u001b[0m\u001b[1;33m\u001b[0m\u001b[0m\n\u001b[0m\u001b[0;32m      2\u001b[0m \u001b[1;32mfor\u001b[0m \u001b[0mrow\u001b[0m \u001b[1;32min\u001b[0m \u001b[0mbusiness_merged_df\u001b[0m\u001b[1;33m.\u001b[0m\u001b[0mhead\u001b[0m\u001b[1;33m(\u001b[0m\u001b[0mn\u001b[0m\u001b[1;33m=\u001b[0m\u001b[1;36m10\u001b[0m\u001b[1;33m)\u001b[0m\u001b[1;33m.\u001b[0m\u001b[0mitertuples\u001b[0m\u001b[1;33m(\u001b[0m\u001b[1;33m)\u001b[0m\u001b[1;33m:\u001b[0m\u001b[1;33m\u001b[0m\u001b[0m\n\u001b[0;32m      3\u001b[0m     \u001b[1;32mif\u001b[0m \u001b[0mlen\u001b[0m\u001b[1;33m(\u001b[0m\u001b[0mrow\u001b[0m\u001b[1;33m[\u001b[0m\u001b[1;34m'friends'\u001b[0m\u001b[1;33m]\u001b[0m\u001b[1;33m)\u001b[0m \u001b[1;33m!=\u001b[0m \u001b[1;36m0\u001b[0m\u001b[1;33m:\u001b[0m\u001b[1;33m\u001b[0m\u001b[0m\n\u001b[0;32m      4\u001b[0m         \u001b[0mbusiness_rating\u001b[0m \u001b[1;33m=\u001b[0m \u001b[0mrow\u001b[0m\u001b[1;33m[\u001b[0m\u001b[1;34m'stars_y'\u001b[0m\u001b[1;33m]\u001b[0m\u001b[1;33m\u001b[0m\u001b[0m\n\u001b[0;32m      5\u001b[0m         \u001b[0mbusiness_id\u001b[0m \u001b[1;33m=\u001b[0m \u001b[0mrow\u001b[0m\u001b[1;33m[\u001b[0m\u001b[1;34m'business_id'\u001b[0m\u001b[1;33m]\u001b[0m\u001b[1;33m\u001b[0m\u001b[0m\n",
      "\u001b[1;31mNameError\u001b[0m: name 'pd' is not defined"
     ]
    }
   ],
   "source": [
    "new_df = pd.DataFrame()\n",
    "for row in business_merged_df.head(n=10).itertuples():\n",
    "    if len(row['friends']) != 0:\n",
    "        business_rating = row['stars_y']\n",
    "        business_id = row['business_id']\n",
    "        user_id = row['user_id']\n",
    "        print \"The business: \" + str(business_id) + \" has an avg rating of: \" + str(business_rating)  \n",
    "        user_rating = row['stars_x']\n",
    "        print \"User \" + str(row['user_id']) +\" rated \" + str(business_id) + \" with \" + str(user_rating) + \" stars. \"\n",
    "        count = 0\n",
    "        friends = 0\n",
    "        friends_who_rated = 0\n",
    "        for fid in row['friends']:\n",
    "#             if row['user_id'] == fid:\n",
    "            friends += 1\n",
    "            if any(business_merged_df[business_merged_df['user_id'] == fid]):\n",
    "                for idx in business_merged_df[business_merged_df['user_id'] == fid].index:\n",
    "#                    print business_merged_df.ix[idx]['user_id'] + \"  =  \" + fid   ##prints dat at idx, user & friend id r same\n",
    "#                    print str(business_merged_df.ix[idx]['business_id']) + \" at index \"\n",
    "                    if business_merged_df.ix[idx]['business_id'] == business_id:\n",
    "                        #print \"Friend \" + business_merged_df.ix[idx]['user_id'] + \" rated \" + business_merged_df.ix[idx]['business_id']\n",
    "                        #print \"these many stars: \" + business_merged_df.ix[idx]['stars_x'].astype(str)\n",
    "                        count += business_merged_df.ix[idx]['stars_x']\n",
    "                        friends_who_rated += 1\n",
    "        #print \"Sum of total ratings given by friends: \" + str(count)\n",
    "        #print \"Total friends: \" + str(friends)\n",
    "        #print \"Total friends who rated the business: \" + str(friends_who_rated)\n",
    "        if friends_who_rated != 0:\n",
    "            average = float(count/float(friends_who_rated))\n",
    "            #print \"Friends average: \" + str(average)\n",
    "            data = pd.DataFrame({\"business_id\": [business_id], \"business_stars\": [business_rating], \"user_stars\": [user_rating], \n",
    "                                 \"friends_avg_rating\": [average], \"user_id\": [user_id], \"friends_who_rated\": [friends_who_rated],\n",
    "                                 \"total_friends\": [friends]})\n",
    "            new_df = new_df.append(data, ignore_index=True)\n",
    "#                     else:\n",
    "#                         print \"no\"\n",
    "#             if any(business_merged_df['user_id'] == fid):\n",
    "#                 print fid + \" = \" + business_merged_df['user_id']\n",
    "#                 count += row['stars_x']\n",
    "#         print \"total friends' votes: %s\" % count\n",
    "#         print \"total friends: %s\" % friends\n",
    "#                 count += row['stars_x']\n",
    "#             print count\n"
   ]
  },
  {
   "cell_type": "code",
   "execution_count": null,
   "metadata": {
    "collapsed": false
   },
   "outputs": [],
   "source": [
    "new_df"
   ]
  },
  {
   "cell_type": "code",
   "execution_count": null,
   "metadata": {
    "collapsed": true
   },
   "outputs": [],
   "source": []
  }
 ],
 "metadata": {
  "kernelspec": {
   "display_name": "Python 2",
   "language": "python",
   "name": "python2"
  },
  "language_info": {
   "codemirror_mode": {
    "name": "ipython",
    "version": 2
   },
   "file_extension": ".py",
   "mimetype": "text/x-python",
   "name": "python",
   "nbconvert_exporter": "python",
   "pygments_lexer": "ipython2",
   "version": "2.7.10"
  }
 },
 "nbformat": 4,
 "nbformat_minor": 0
}
