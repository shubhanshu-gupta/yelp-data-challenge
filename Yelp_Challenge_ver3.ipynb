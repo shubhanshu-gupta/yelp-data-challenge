{
 "cells": [
  {
   "cell_type": "code",
   "execution_count": 1,
   "metadata": {
    "collapsed": true
   },
   "outputs": [],
   "source": [
    "import json\n",
    "import string\n",
    "import pandas as pd\n",
    "import numpy as np\n",
    "import matplotlib.pyplot as plt"
   ]
  },
  {
   "cell_type": "code",
   "execution_count": 2,
   "metadata": {
    "collapsed": true
   },
   "outputs": [],
   "source": [
    "data_one = []\n",
    "data_two = []\n",
    "data_three = []\n",
    "data_four = []\n",
    "reviewdata_df = []"
   ]
  },
  {
   "cell_type": "code",
   "execution_count": 3,
   "metadata": {
    "collapsed": true
   },
   "outputs": [],
   "source": [
    "data_file = open('F:\\yelp\\yelp_academic_dataset_review.json')\n",
    "length = 2225213  # I calculated length prior to this calculation\n",
    "for i, line in enumerate(data_file):\n",
    "    if i<(length/4):\n",
    "        data_one.append(json.loads(line))\n",
    "data_file.close()"
   ]
  },
  {
   "cell_type": "code",
   "execution_count": 4,
   "metadata": {
    "collapsed": true
   },
   "outputs": [],
   "source": [
    "df = pd.DataFrame(data_one)"
   ]
  },
  {
   "cell_type": "code",
   "execution_count": 5,
   "metadata": {
    "collapsed": true
   },
   "outputs": [],
   "source": [
    "data_main = []\n",
    "with open('F:\\yelp\\yelp_academic_dataset_user.json') as f:\n",
    "    for line in f:\n",
    "        data_main.append(json.loads(line))"
   ]
  },
  {
   "cell_type": "code",
   "execution_count": 6,
   "metadata": {
    "collapsed": true
   },
   "outputs": [],
   "source": [
    "df_user = pd.DataFrame(data_main)"
   ]
  },
  {
   "cell_type": "code",
   "execution_count": 7,
   "metadata": {
    "collapsed": true
   },
   "outputs": [],
   "source": [
    "merged_df = pd.merge(df, df_user, on='user_id', how='inner')"
   ]
  },
  {
   "cell_type": "code",
   "execution_count": 8,
   "metadata": {
    "collapsed": false
   },
   "outputs": [
    {
     "data": {
      "text/html": [
       "<div>\n",
       "<table border=\"1\" class=\"dataframe\">\n",
       "  <thead>\n",
       "    <tr style=\"text-align: right;\">\n",
       "      <th></th>\n",
       "      <th>business_id</th>\n",
       "      <th>date</th>\n",
       "      <th>review_id</th>\n",
       "      <th>stars</th>\n",
       "      <th>text</th>\n",
       "      <th>type_x</th>\n",
       "      <th>user_id</th>\n",
       "      <th>votes_x</th>\n",
       "      <th>average_stars</th>\n",
       "      <th>compliments</th>\n",
       "      <th>elite</th>\n",
       "      <th>fans</th>\n",
       "      <th>friends</th>\n",
       "      <th>name</th>\n",
       "      <th>review_count</th>\n",
       "      <th>type_y</th>\n",
       "      <th>votes_y</th>\n",
       "      <th>yelping_since</th>\n",
       "    </tr>\n",
       "  </thead>\n",
       "  <tbody>\n",
       "    <tr>\n",
       "      <th>0</th>\n",
       "      <td>5UmKMjUEUNdYWqANhGckJw</td>\n",
       "      <td>2012-08-01</td>\n",
       "      <td>Ya85v4eqdd6k9Od8HbQjyA</td>\n",
       "      <td>4</td>\n",
       "      <td>Mr Hoagie is an institution. Walking in, it do...</td>\n",
       "      <td>review</td>\n",
       "      <td>PUFPaY9KxDAcGqfsorJp3Q</td>\n",
       "      <td>{u'funny': 0, u'useful': 0, u'cool': 0}</td>\n",
       "      <td>3.08</td>\n",
       "      <td>{u'note': 1, u'plain': 1, u'hot': 1, u'more': 1}</td>\n",
       "      <td>[]</td>\n",
       "      <td>0</td>\n",
       "      <td>[]</td>\n",
       "      <td>Jeffrey</td>\n",
       "      <td>60</td>\n",
       "      <td>user</td>\n",
       "      <td>{u'funny': 25, u'useful': 166, u'cool': 12}</td>\n",
       "      <td>2009-05</td>\n",
       "    </tr>\n",
       "  </tbody>\n",
       "</table>\n",
       "</div>"
      ],
      "text/plain": [
       "              business_id        date               review_id  stars  \\\n",
       "0  5UmKMjUEUNdYWqANhGckJw  2012-08-01  Ya85v4eqdd6k9Od8HbQjyA      4   \n",
       "\n",
       "                                                text  type_x  \\\n",
       "0  Mr Hoagie is an institution. Walking in, it do...  review   \n",
       "\n",
       "                  user_id                                  votes_x  \\\n",
       "0  PUFPaY9KxDAcGqfsorJp3Q  {u'funny': 0, u'useful': 0, u'cool': 0}   \n",
       "\n",
       "   average_stars                                       compliments elite  \\\n",
       "0           3.08  {u'note': 1, u'plain': 1, u'hot': 1, u'more': 1}    []   \n",
       "\n",
       "   fans friends     name  review_count type_y  \\\n",
       "0     0      []  Jeffrey            60   user   \n",
       "\n",
       "                                       votes_y yelping_since  \n",
       "0  {u'funny': 25, u'useful': 166, u'cool': 12}       2009-05  "
      ]
     },
     "execution_count": 8,
     "metadata": {},
     "output_type": "execute_result"
    }
   ],
   "source": [
    "merged_df.head(n=1)"
   ]
  },
  {
   "cell_type": "code",
   "execution_count": 9,
   "metadata": {
    "collapsed": false
   },
   "outputs": [
    {
     "data": {
      "text/plain": [
       "(556303, 18)"
      ]
     },
     "execution_count": 9,
     "metadata": {},
     "output_type": "execute_result"
    }
   ],
   "source": [
    "merged_df.shape"
   ]
  },
  {
   "cell_type": "code",
   "execution_count": 10,
   "metadata": {
    "collapsed": false
   },
   "outputs": [
    {
     "data": {
      "text/plain": [
       "2     51957\n",
       "1     74210\n",
       "3     77499\n",
       "4    154479\n",
       "5    198158\n",
       "Name: stars, dtype: int64"
      ]
     },
     "execution_count": 10,
     "metadata": {},
     "output_type": "execute_result"
    }
   ],
   "source": [
    "merged_df.stars.value_counts(ascending=True)"
   ]
  },
  {
   "cell_type": "code",
   "execution_count": 11,
   "metadata": {
    "collapsed": true
   },
   "outputs": [],
   "source": [
    "data_business = []\n",
    "with open('F:\\yelp\\yelp_academic_dataset_business.json') as f:\n",
    "    for line in f:\n",
    "        data_business.append(json.loads(line))"
   ]
  },
  {
   "cell_type": "code",
   "execution_count": 12,
   "metadata": {
    "collapsed": true
   },
   "outputs": [],
   "source": [
    "df_business = pd.DataFrame(data_business)"
   ]
  },
  {
   "cell_type": "code",
   "execution_count": 13,
   "metadata": {
    "collapsed": true
   },
   "outputs": [],
   "source": [
    "business_merged_df = pd.merge(merged_df, df_business, on='business_id', how='inner')"
   ]
  },
  {
   "cell_type": "code",
   "execution_count": 14,
   "metadata": {
    "collapsed": true
   },
   "outputs": [],
   "source": [
    "business_merged_df.drop(['neighborhoods', 'latitude', 'longitude', 'elite', 'yelping_since', 'compliments', 'full_address', 'city', 'state', 'categories', 'open', 'hours', 'attributes'], axis=1, inplace=True)"
   ]
  },
  {
   "cell_type": "code",
   "execution_count": 15,
   "metadata": {
    "collapsed": false
   },
   "outputs": [
    {
     "data": {
      "text/html": [
       "<div>\n",
       "<table border=\"1\" class=\"dataframe\">\n",
       "  <thead>\n",
       "    <tr style=\"text-align: right;\">\n",
       "      <th></th>\n",
       "      <th>business_id</th>\n",
       "      <th>date</th>\n",
       "      <th>review_id</th>\n",
       "      <th>stars_x</th>\n",
       "      <th>text</th>\n",
       "      <th>type_x</th>\n",
       "      <th>user_id</th>\n",
       "      <th>votes_x</th>\n",
       "      <th>average_stars</th>\n",
       "      <th>fans</th>\n",
       "      <th>friends</th>\n",
       "      <th>name_x</th>\n",
       "      <th>review_count_x</th>\n",
       "      <th>type_y</th>\n",
       "      <th>votes_y</th>\n",
       "      <th>name_y</th>\n",
       "      <th>review_count_y</th>\n",
       "      <th>stars_y</th>\n",
       "      <th>type</th>\n",
       "    </tr>\n",
       "  </thead>\n",
       "  <tbody>\n",
       "    <tr>\n",
       "      <th>0</th>\n",
       "      <td>5UmKMjUEUNdYWqANhGckJw</td>\n",
       "      <td>2012-08-01</td>\n",
       "      <td>Ya85v4eqdd6k9Od8HbQjyA</td>\n",
       "      <td>4</td>\n",
       "      <td>Mr Hoagie is an institution. Walking in, it do...</td>\n",
       "      <td>review</td>\n",
       "      <td>PUFPaY9KxDAcGqfsorJp3Q</td>\n",
       "      <td>{u'funny': 0, u'useful': 0, u'cool': 0}</td>\n",
       "      <td>3.08</td>\n",
       "      <td>0</td>\n",
       "      <td>[]</td>\n",
       "      <td>Jeffrey</td>\n",
       "      <td>60</td>\n",
       "      <td>user</td>\n",
       "      <td>{u'funny': 25, u'useful': 166, u'cool': 12}</td>\n",
       "      <td>Mr Hoagie</td>\n",
       "      <td>4</td>\n",
       "      <td>4.5</td>\n",
       "      <td>business</td>\n",
       "    </tr>\n",
       "  </tbody>\n",
       "</table>\n",
       "</div>"
      ],
      "text/plain": [
       "              business_id        date               review_id  stars_x  \\\n",
       "0  5UmKMjUEUNdYWqANhGckJw  2012-08-01  Ya85v4eqdd6k9Od8HbQjyA        4   \n",
       "\n",
       "                                                text  type_x  \\\n",
       "0  Mr Hoagie is an institution. Walking in, it do...  review   \n",
       "\n",
       "                  user_id                                  votes_x  \\\n",
       "0  PUFPaY9KxDAcGqfsorJp3Q  {u'funny': 0, u'useful': 0, u'cool': 0}   \n",
       "\n",
       "   average_stars  fans friends   name_x  review_count_x type_y  \\\n",
       "0           3.08     0      []  Jeffrey              60   user   \n",
       "\n",
       "                                       votes_y     name_y  review_count_y  \\\n",
       "0  {u'funny': 25, u'useful': 166, u'cool': 12}  Mr Hoagie               4   \n",
       "\n",
       "   stars_y      type  \n",
       "0      4.5  business  "
      ]
     },
     "execution_count": 15,
     "metadata": {},
     "output_type": "execute_result"
    }
   ],
   "source": [
    "business_merged_df.head(n=1)"
   ]
  },
  {
   "cell_type": "code",
   "execution_count": 16,
   "metadata": {
    "collapsed": false
   },
   "outputs": [
    {
     "name": "stdout",
     "output_type": "stream",
     "text": [
      "4\n",
      "7\n",
      "8\n",
      "10\n",
      "11\n",
      "12\n",
      "13\n",
      "14\n",
      "16\n",
      "17\n",
      "18\n",
      "23\n",
      "27\n",
      "29\n",
      "30\n",
      "31\n",
      "32\n",
      "33\n",
      "34\n",
      "35\n",
      "36\n",
      "37\n",
      "38\n",
      "39\n",
      "40\n",
      "41\n",
      "42\n",
      "43\n",
      "44\n",
      "45\n",
      "46\n",
      "47\n",
      "48\n",
      "49\n"
     ]
    }
   ],
   "source": [
    "for index, row in business_merged_df.head(n=50).iterrows():\n",
    "    if len(row['friends']) != 0:\n",
    "        print index"
   ]
  },
  {
   "cell_type": "code",
   "execution_count": 38,
   "metadata": {
    "collapsed": false
   },
   "outputs": [
    {
     "name": "stdout",
     "output_type": "stream",
     "text": [
      "The business: WaHXyBwljbKNPmmJZn5j8Q has an avg rating of: 3.0\n",
      "User 2jkE2AhFum7t3jHSngMZtg rated WaHXyBwljbKNPmmJZn5j8Q with 3 stars. \n",
      "0\n",
      "12\n",
      "0\n",
      "The business: u22QDAON1kk0wjoTliyftw has an avg rating of: 4.0\n",
      "User 2l_VuWR75EUOxTarAwIK9w rated u22QDAON1kk0wjoTliyftw with 4 stars. \n",
      "0\n",
      "2\n",
      "0\n",
      "The business: u22QDAON1kk0wjoTliyftw has an avg rating of: 4.0\n",
      "User 5vVOuKUHS1VaM-fsdS-gKw rated u22QDAON1kk0wjoTliyftw with 4 stars. \n",
      "0\n",
      "7\n",
      "0\n",
      "The business: 4ykgzzzGEWjMD5lwk1-l9A has an avg rating of: 4.5\n",
      "User 7DeM4C66zVflYNrZn_Vv9g rated 4ykgzzzGEWjMD5lwk1-l9A with 2 stars. \n",
      "0\n",
      "1\n",
      "0\n",
      "The business: 4ykgzzzGEWjMD5lwk1-l9A has an avg rating of: 4.5\n",
      "User LhgQq1x4n9ardg1PFo8vgg rated 4ykgzzzGEWjMD5lwk1-l9A with 5 stars. \n",
      "0\n",
      "19\n",
      "0\n",
      "The business: 4ykgzzzGEWjMD5lwk1-l9A has an avg rating of: 4.5\n",
      "User SVd6Re9tpabo413b4LghYw rated 4ykgzzzGEWjMD5lwk1-l9A with 5 stars. \n",
      "0\n",
      "9\n",
      "0\n",
      "The business: 4ykgzzzGEWjMD5lwk1-l9A has an avg rating of: 4.5\n",
      "User SVd6Re9tpabo413b4LghYw rated 4ykgzzzGEWjMD5lwk1-l9A with 5 stars. \n",
      "0\n",
      "9\n",
      "0\n",
      "The business: 4ykgzzzGEWjMD5lwk1-l9A has an avg rating of: 4.5\n",
      "User XXAWNimRCIygYRP4IZTTEw rated 4ykgzzzGEWjMD5lwk1-l9A with 5 stars. \n",
      "0\n",
      "21\n",
      "0\n",
      "The business: 4ykgzzzGEWjMD5lwk1-l9A has an avg rating of: 4.5\n",
      "User mv8rxpv_fhMwYcejUccWRQ rated 4ykgzzzGEWjMD5lwk1-l9A with 5 stars. \n",
      "0\n",
      "2\n",
      "0\n",
      "The business: 4ykgzzzGEWjMD5lwk1-l9A has an avg rating of: 4.5\n",
      "User ezNDrgrcS8jN55S0Sq_E2A rated 4ykgzzzGEWjMD5lwk1-l9A with 5 stars. \n",
      "0\n",
      "1\n",
      "0\n",
      "The business: 4ykgzzzGEWjMD5lwk1-l9A has an avg rating of: 4.5\n",
      "User IJgrZymgN_pHYGELICkV1w rated 4ykgzzzGEWjMD5lwk1-l9A with 5 stars. \n",
      "0\n",
      "1\n",
      "0\n",
      "The business: 4ykgzzzGEWjMD5lwk1-l9A has an avg rating of: 4.5\n",
      "User CagJNYXhX0O4v3y9ZpcPzQ rated 4ykgzzzGEWjMD5lwk1-l9A with 5 stars. \n",
      "0\n",
      "3\n",
      "0\n",
      "The business: 2PfavOTufsPCRdYm-bFcpw has an avg rating of: 4.5\n",
      "User l_szjd-ken3ma6oHDkTYXg rated 2PfavOTufsPCRdYm-bFcpw with 5 stars. \n",
      "Friend bvu13GyOUwhEjPum2xjiqQ rated 2PfavOTufsPCRdYm-bFcpw\n",
      "these many stars: 4\n",
      "Friend 9OZH1Ecw-qUkCW5MS0NefA rated 2PfavOTufsPCRdYm-bFcpw\n",
      "these many stars: 4\n",
      "Friend 9cCTmiJ7hz35rHIdr8n9kA rated 2PfavOTufsPCRdYm-bFcpw\n",
      "these many stars: 4\n",
      "Friend nEYPahVwXGD2Pjvgkm7QqQ rated 2PfavOTufsPCRdYm-bFcpw\n",
      "these many stars: 5\n",
      "Friend J_q8jN623uew8ZzMChXBCA rated 2PfavOTufsPCRdYm-bFcpw\n",
      "these many stars: 5\n",
      "Friend WzaaorVCmUTQvu4mScunNg rated 2PfavOTufsPCRdYm-bFcpw\n",
      "these many stars: 4\n",
      "26\n",
      "55\n",
      "6\n",
      "The business: 2PfavOTufsPCRdYm-bFcpw has an avg rating of: 4.5\n",
      "User nEYPahVwXGD2Pjvgkm7QqQ rated 2PfavOTufsPCRdYm-bFcpw with 5 stars. \n",
      "Friend _e5drmTJBSV0yiFBrTimtg rated 2PfavOTufsPCRdYm-bFcpw\n",
      "these many stars: 4\n",
      "Friend T_wjLgPOPXry7Bea4MzoVQ rated 2PfavOTufsPCRdYm-bFcpw\n",
      "these many stars: 4\n",
      "Friend JeFoNHDRhowMQWs9tA_AUw rated 2PfavOTufsPCRdYm-bFcpw\n",
      "these many stars: 5\n",
      "Friend sS2sSWqZMnQMRoWx-Mdzgg rated 2PfavOTufsPCRdYm-bFcpw\n",
      "these many stars: 5\n",
      "Friend 7IPdr4DfB5TizGvUGZeozA rated 2PfavOTufsPCRdYm-bFcpw\n",
      "these many stars: 5\n",
      "Friend FyCBkNXwoI_6X6apbslg4g rated 2PfavOTufsPCRdYm-bFcpw\n",
      "these many stars: 5\n",
      "Friend cuiJrRGgOTf-nGtBMZpA0w rated 2PfavOTufsPCRdYm-bFcpw\n",
      "these many stars: 5\n",
      "Friend _vS9qNQvx8wVUOIkj4qfAg rated 2PfavOTufsPCRdYm-bFcpw\n",
      "these many stars: 4\n",
      "Friend bvu13GyOUwhEjPum2xjiqQ rated 2PfavOTufsPCRdYm-bFcpw\n",
      "these many stars: 4\n",
      "Friend 9OZH1Ecw-qUkCW5MS0NefA rated 2PfavOTufsPCRdYm-bFcpw\n",
      "these many stars: 4\n",
      "Friend 9cCTmiJ7hz35rHIdr8n9kA rated 2PfavOTufsPCRdYm-bFcpw\n",
      "these many stars: 4\n",
      "Friend JEvkfVPf_DuhX-ntE5L6bQ rated 2PfavOTufsPCRdYm-bFcpw\n",
      "these many stars: 4\n",
      "Friend -0itF0VWVBe3k2AdfUReGA rated 2PfavOTufsPCRdYm-bFcpw\n",
      "these many stars: 5\n",
      "Friend l_szjd-ken3ma6oHDkTYXg rated 2PfavOTufsPCRdYm-bFcpw\n",
      "these many stars: 5\n",
      "Friend tQjvFcsbpUre8zRRpK7zMw rated 2PfavOTufsPCRdYm-bFcpw\n",
      "these many stars: 4\n",
      "Friend J_q8jN623uew8ZzMChXBCA rated 2PfavOTufsPCRdYm-bFcpw\n",
      "these many stars: 5\n",
      "Friend hB3VhsSKZ5grSGUqYQ-b9g rated 2PfavOTufsPCRdYm-bFcpw\n",
      "these many stars: 5\n",
      "Friend So32N7bSbUd1RwhFtI6jTQ rated 2PfavOTufsPCRdYm-bFcpw\n",
      "these many stars: 4\n",
      "Friend 7JDMwDRjhGFEpsL_vqKyRQ rated 2PfavOTufsPCRdYm-bFcpw\n",
      "these many stars: 5\n",
      "Friend 6GkN-2eDeu-j4s7_PWiS5A rated 2PfavOTufsPCRdYm-bFcpw\n",
      "these many stars: 4\n",
      "Friend WzaaorVCmUTQvu4mScunNg rated 2PfavOTufsPCRdYm-bFcpw\n",
      "these many stars: 4\n",
      "Friend IB4Oxk8IlNG2K0oH0I9Dkg rated 2PfavOTufsPCRdYm-bFcpw\n",
      "these many stars: 5\n",
      "Friend rxYocLcwFsrHYOYwtHSv8g rated 2PfavOTufsPCRdYm-bFcpw\n",
      "these many stars: 5\n",
      "Friend lZpv9uSDKgyUxk1VPwyzDg rated 2PfavOTufsPCRdYm-bFcpw\n",
      "these many stars: 5\n",
      "Friend KSS6v5fcZNoelu4eEZCFcw rated 2PfavOTufsPCRdYm-bFcpw\n",
      "these many stars: 4\n",
      "Friend -57_FGqkVF6AXNRQok8GNA rated 2PfavOTufsPCRdYm-bFcpw\n",
      "these many stars: 5\n",
      "Friend 4DrkZqFqLcyRcLWuQUXFeQ rated 2PfavOTufsPCRdYm-bFcpw\n",
      "these many stars: 5\n",
      "Friend 4DrkZqFqLcyRcLWuQUXFeQ rated 2PfavOTufsPCRdYm-bFcpw\n",
      "these many stars: 5\n",
      "Friend MSuyK2p8G9hEqyWf5IgnYQ rated 2PfavOTufsPCRdYm-bFcpw\n",
      "these many stars: 5\n",
      "Friend T2GzjxlcatJyNiyU7gk_Eg rated 2PfavOTufsPCRdYm-bFcpw\n",
      "these many stars: 4\n",
      "Friend g23fX1wynH2Ar5VAfGrwLA rated 2PfavOTufsPCRdYm-bFcpw\n",
      "these many stars: 4\n",
      "Friend KOrggEZ4aa7JzVIuY-Zgkw rated 2PfavOTufsPCRdYm-bFcpw\n",
      "these many stars: 5\n",
      "Friend jThUkO26of_9arLY5zUszg rated 2PfavOTufsPCRdYm-bFcpw\n",
      "these many stars: 5\n",
      "151\n",
      "1444\n",
      "33\n",
      "The business: 2PfavOTufsPCRdYm-bFcpw has an avg rating of: 4.5\n",
      "User bvu13GyOUwhEjPum2xjiqQ rated 2PfavOTufsPCRdYm-bFcpw with 4 stars. \n",
      "Friend T_wjLgPOPXry7Bea4MzoVQ rated 2PfavOTufsPCRdYm-bFcpw\n",
      "these many stars: 4\n",
      "Friend 9OZH1Ecw-qUkCW5MS0NefA rated 2PfavOTufsPCRdYm-bFcpw\n",
      "these many stars: 4\n",
      "Friend 9cCTmiJ7hz35rHIdr8n9kA rated 2PfavOTufsPCRdYm-bFcpw\n",
      "these many stars: 4\n",
      "Friend JEvkfVPf_DuhX-ntE5L6bQ rated 2PfavOTufsPCRdYm-bFcpw\n",
      "these many stars: 4\n",
      "Friend -0itF0VWVBe3k2AdfUReGA rated 2PfavOTufsPCRdYm-bFcpw\n",
      "these many stars: 5\n",
      "Friend nEYPahVwXGD2Pjvgkm7QqQ rated 2PfavOTufsPCRdYm-bFcpw\n",
      "these many stars: 5\n",
      "Friend l_szjd-ken3ma6oHDkTYXg rated 2PfavOTufsPCRdYm-bFcpw\n",
      "these many stars: 5\n",
      "Friend So32N7bSbUd1RwhFtI6jTQ rated 2PfavOTufsPCRdYm-bFcpw\n",
      "these many stars: 4\n",
      "Friend igSbsyeE2C0_17dFt_y_dQ rated 2PfavOTufsPCRdYm-bFcpw\n",
      "these many stars: 5\n",
      "Friend WzaaorVCmUTQvu4mScunNg rated 2PfavOTufsPCRdYm-bFcpw\n",
      "these many stars: 4\n",
      "Friend IB4Oxk8IlNG2K0oH0I9Dkg rated 2PfavOTufsPCRdYm-bFcpw\n",
      "these many stars: 5\n",
      "Friend 4DrkZqFqLcyRcLWuQUXFeQ rated 2PfavOTufsPCRdYm-bFcpw\n",
      "these many stars: 5\n",
      "Friend 4DrkZqFqLcyRcLWuQUXFeQ rated 2PfavOTufsPCRdYm-bFcpw\n",
      "these many stars: 5\n",
      "Friend MSuyK2p8G9hEqyWf5IgnYQ rated 2PfavOTufsPCRdYm-bFcpw\n",
      "these many stars: 5\n",
      "64\n",
      "230\n",
      "14\n",
      "The business: 2PfavOTufsPCRdYm-bFcpw has an avg rating of: 4.5\n",
      "User T_wjLgPOPXry7Bea4MzoVQ rated 2PfavOTufsPCRdYm-bFcpw with 4 stars. \n",
      "Friend bvu13GyOUwhEjPum2xjiqQ rated 2PfavOTufsPCRdYm-bFcpw\n",
      "these many stars: 4\n",
      "Friend 9OZH1Ecw-qUkCW5MS0NefA rated 2PfavOTufsPCRdYm-bFcpw\n",
      "these many stars: 4\n",
      "Friend 9cCTmiJ7hz35rHIdr8n9kA rated 2PfavOTufsPCRdYm-bFcpw\n",
      "these many stars: 4\n",
      "Friend nEYPahVwXGD2Pjvgkm7QqQ rated 2PfavOTufsPCRdYm-bFcpw\n",
      "these many stars: 5\n",
      "17\n",
      "79\n",
      "4\n",
      "The business: 2PfavOTufsPCRdYm-bFcpw has an avg rating of: 4.5\n",
      "User 9cCTmiJ7hz35rHIdr8n9kA rated 2PfavOTufsPCRdYm-bFcpw with 4 stars. \n",
      "Friend _e5drmTJBSV0yiFBrTimtg rated 2PfavOTufsPCRdYm-bFcpw\n",
      "these many stars: 4\n",
      "Friend 6deaMWBaD4P3QjghDoWxrg rated 2PfavOTufsPCRdYm-bFcpw\n",
      "these many stars: 4\n",
      "Friend T_wjLgPOPXry7Bea4MzoVQ rated 2PfavOTufsPCRdYm-bFcpw\n",
      "these many stars: 4\n",
      "Friend 7IPdr4DfB5TizGvUGZeozA rated 2PfavOTufsPCRdYm-bFcpw\n",
      "these many stars: 5\n",
      "Friend 2udm_LKOG3wpYb31YgkjyQ rated 2PfavOTufsPCRdYm-bFcpw\n",
      "these many stars: 5\n",
      "Friend FyCBkNXwoI_6X6apbslg4g rated 2PfavOTufsPCRdYm-bFcpw\n",
      "these many stars: 5\n",
      "Friend cuiJrRGgOTf-nGtBMZpA0w rated 2PfavOTufsPCRdYm-bFcpw\n",
      "these many stars: 5\n",
      "Friend _vS9qNQvx8wVUOIkj4qfAg rated 2PfavOTufsPCRdYm-bFcpw\n",
      "these many stars: 4\n",
      "Friend dqMeWT_n6VN8l078B4cLKw rated 2PfavOTufsPCRdYm-bFcpw\n",
      "these many stars: 5\n",
      "Friend bvu13GyOUwhEjPum2xjiqQ rated 2PfavOTufsPCRdYm-bFcpw\n",
      "these many stars: 4\n",
      "Friend 9OZH1Ecw-qUkCW5MS0NefA rated 2PfavOTufsPCRdYm-bFcpw\n",
      "these many stars: 4\n",
      "Friend JEvkfVPf_DuhX-ntE5L6bQ rated 2PfavOTufsPCRdYm-bFcpw\n",
      "these many stars: 4\n",
      "Friend -0itF0VWVBe3k2AdfUReGA rated 2PfavOTufsPCRdYm-bFcpw\n",
      "these many stars: 5\n",
      "Friend nEYPahVwXGD2Pjvgkm7QqQ rated 2PfavOTufsPCRdYm-bFcpw\n",
      "these many stars: 5\n",
      "Friend l_szjd-ken3ma6oHDkTYXg rated 2PfavOTufsPCRdYm-bFcpw\n",
      "these many stars: 5\n",
      "Friend tQjvFcsbpUre8zRRpK7zMw rated 2PfavOTufsPCRdYm-bFcpw\n",
      "these many stars: 4\n",
      "Friend J_q8jN623uew8ZzMChXBCA rated 2PfavOTufsPCRdYm-bFcpw\n",
      "these many stars: 5\n",
      "Friend g8K-AQC2_FKx5soEY0iaZQ rated 2PfavOTufsPCRdYm-bFcpw\n",
      "these many stars: 5\n",
      "Friend So32N7bSbUd1RwhFtI6jTQ rated 2PfavOTufsPCRdYm-bFcpw\n",
      "these many stars: 4\n",
      "Friend D4UtG6k4Y_T7_xsvj8zDkw rated 2PfavOTufsPCRdYm-bFcpw\n",
      "these many stars: 5\n",
      "Friend igSbsyeE2C0_17dFt_y_dQ rated 2PfavOTufsPCRdYm-bFcpw\n",
      "these many stars: 5\n",
      "Friend 6GkN-2eDeu-j4s7_PWiS5A rated 2PfavOTufsPCRdYm-bFcpw\n",
      "these many stars: 4\n",
      "Friend WzaaorVCmUTQvu4mScunNg rated 2PfavOTufsPCRdYm-bFcpw\n",
      "these many stars: 4\n",
      "Friend IB4Oxk8IlNG2K0oH0I9Dkg rated 2PfavOTufsPCRdYm-bFcpw\n",
      "these many stars: 5\n",
      "Friend rxYocLcwFsrHYOYwtHSv8g rated 2PfavOTufsPCRdYm-bFcpw\n",
      "these many stars: 5\n",
      "Friend KSS6v5fcZNoelu4eEZCFcw rated 2PfavOTufsPCRdYm-bFcpw\n",
      "these many stars: 4\n",
      "Friend -xPKyCJiK9q1OFZ7GCZwBw rated 2PfavOTufsPCRdYm-bFcpw\n",
      "these many stars: 4\n",
      "Friend 4DrkZqFqLcyRcLWuQUXFeQ rated 2PfavOTufsPCRdYm-bFcpw\n",
      "these many stars: 5\n",
      "Friend 4DrkZqFqLcyRcLWuQUXFeQ rated 2PfavOTufsPCRdYm-bFcpw\n",
      "these many stars: 5\n",
      "Friend MSuyK2p8G9hEqyWf5IgnYQ rated 2PfavOTufsPCRdYm-bFcpw\n",
      "these many stars: 5\n",
      "Friend g23fX1wynH2Ar5VAfGrwLA rated 2PfavOTufsPCRdYm-bFcpw\n",
      "these many stars: 4\n",
      "Friend KOrggEZ4aa7JzVIuY-Zgkw rated 2PfavOTufsPCRdYm-bFcpw\n",
      "these many stars: 5\n",
      "Friend jThUkO26of_9arLY5zUszg rated 2PfavOTufsPCRdYm-bFcpw\n",
      "these many stars: 5\n",
      "151\n",
      "997\n",
      "33\n",
      "The business: 2PfavOTufsPCRdYm-bFcpw has an avg rating of: 4.5\n",
      "User lZpv9uSDKgyUxk1VPwyzDg rated 2PfavOTufsPCRdYm-bFcpw with 5 stars. \n",
      "Friend nEYPahVwXGD2Pjvgkm7QqQ rated 2PfavOTufsPCRdYm-bFcpw\n",
      "these many stars: 5\n",
      "5\n",
      "2\n",
      "1\n",
      "The business: 2PfavOTufsPCRdYm-bFcpw has an avg rating of: 4.5\n",
      "User WzaaorVCmUTQvu4mScunNg rated 2PfavOTufsPCRdYm-bFcpw with 4 stars. \n",
      "Friend _vS9qNQvx8wVUOIkj4qfAg rated 2PfavOTufsPCRdYm-bFcpw\n",
      "these many stars: 4\n",
      "Friend bvu13GyOUwhEjPum2xjiqQ rated 2PfavOTufsPCRdYm-bFcpw\n",
      "these many stars: 4\n",
      "Friend 9OZH1Ecw-qUkCW5MS0NefA rated 2PfavOTufsPCRdYm-bFcpw\n",
      "these many stars: 4\n",
      "Friend 9cCTmiJ7hz35rHIdr8n9kA rated 2PfavOTufsPCRdYm-bFcpw\n",
      "these many stars: 4\n",
      "Friend nEYPahVwXGD2Pjvgkm7QqQ rated 2PfavOTufsPCRdYm-bFcpw\n",
      "these many stars: 5\n",
      "Friend l_szjd-ken3ma6oHDkTYXg rated 2PfavOTufsPCRdYm-bFcpw\n",
      "these many stars: 5\n",
      "Friend J_q8jN623uew8ZzMChXBCA rated 2PfavOTufsPCRdYm-bFcpw\n",
      "these many stars: 5\n",
      "Friend So32N7bSbUd1RwhFtI6jTQ rated 2PfavOTufsPCRdYm-bFcpw\n",
      "these many stars: 4\n",
      "Friend IB4Oxk8IlNG2K0oH0I9Dkg rated 2PfavOTufsPCRdYm-bFcpw\n",
      "these many stars: 5\n",
      "Friend 4DrkZqFqLcyRcLWuQUXFeQ rated 2PfavOTufsPCRdYm-bFcpw\n",
      "these many stars: 5\n",
      "Friend 4DrkZqFqLcyRcLWuQUXFeQ rated 2PfavOTufsPCRdYm-bFcpw\n",
      "these many stars: 5\n",
      "Friend g23fX1wynH2Ar5VAfGrwLA rated 2PfavOTufsPCRdYm-bFcpw\n",
      "these many stars: 4\n",
      "54\n",
      "137\n",
      "12\n"
     ]
    }
   ],
   "source": [
    "for index, row in business_merged_df.head(n=35).iterrows():\n",
    "    if len(row['friends']) != 0:\n",
    "        business_rating = row['stars_y']\n",
    "        business_id = row['business_id']\n",
    "        print \"The business: \" + str(business_id) + \" has an avg rating of: \" + str(business_rating)  \n",
    "        user_rating = row['stars_x']\n",
    "        print \"User \" + str(row['user_id']) +\" rated \" + str(business_id) + \" with \" + str(user_rating) + \" stars. \"\n",
    "        count = 0\n",
    "        friends = 0\n",
    "        friends_who_rated = 0\n",
    "        for fid in row['friends']:\n",
    "#             if row['user_id'] == fid:\n",
    "            friends += 1\n",
    "            if any(business_merged_df[business_merged_df['user_id'] == fid]):\n",
    "                for idx in business_merged_df[business_merged_df['user_id'] == fid].index:\n",
    "#                    print business_merged_df.ix[idx]['user_id'] + \"  =  \" + fid   ##prints dat at idx, user & friend id r same\n",
    "#                    print str(business_merged_df.ix[idx]['business_id']) + \" at index \"\n",
    "                    if business_merged_df.ix[idx]['business_id'] == business_id:\n",
    "                        print \"Friend \" + business_merged_df.ix[idx]['user_id'] + \" rated \" + business_merged_df.ix[idx]['business_id']\n",
    "                        print \"these many stars: \" + business_merged_df.ix[idx]['stars_x'].astype(str)\n",
    "                        count += business_merged_df.ix[idx]['stars_x']\n",
    "                        friends_who_rated += 1\n",
    "        print count\n",
    "        print friends\n",
    "        print friends_who_rated\n",
    "#                     else:\n",
    "#                         print \"no\"\n",
    "#             if any(business_merged_df['user_id'] == fid):\n",
    "#                 print fid + \" = \" + business_merged_df['user_id']\n",
    "#                 count += row['stars_x']\n",
    "#         print \"total friends' votes: %s\" % count\n",
    "#         print \"total friends: %s\" % friends\n",
    "#                 count += row['stars_x']\n",
    "#             print count\n"
   ]
  },
  {
   "cell_type": "code",
   "execution_count": null,
   "metadata": {
    "collapsed": true
   },
   "outputs": [],
   "source": []
  }
 ],
 "metadata": {
  "kernelspec": {
   "display_name": "Python 2",
   "language": "python",
   "name": "python2"
  },
  "language_info": {
   "codemirror_mode": {
    "name": "ipython",
    "version": 2
   },
   "file_extension": ".py",
   "mimetype": "text/x-python",
   "name": "python",
   "nbconvert_exporter": "python",
   "pygments_lexer": "ipython2",
   "version": "2.7.10"
  }
 },
 "nbformat": 4,
 "nbformat_minor": 0
}
