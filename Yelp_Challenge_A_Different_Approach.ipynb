{
 "cells": [
  {
   "cell_type": "code",
   "execution_count": 1,
   "metadata": {
    "collapsed": true
   },
   "outputs": [],
   "source": [
    "import json\n",
    "import string\n",
    "import pandas as pd\n",
    "import numpy as np\n",
    "import matplotlib.pyplot as plt\n",
    "from sklearn.linear_model import LinearRegression"
   ]
  },
  {
   "cell_type": "code",
   "execution_count": 2,
   "metadata": {
    "collapsed": true
   },
   "outputs": [],
   "source": [
    "data_one = []\n",
    "reviewdata_df = []"
   ]
  },
  {
   "cell_type": "code",
   "execution_count": 3,
   "metadata": {
    "collapsed": true
   },
   "outputs": [],
   "source": [
    "data_file = open('F:\\yelp\\yelp_academic_dataset_review.json')\n",
    "length = 2225213  # I calculated length prior to this calculation\n",
    "for i, line in enumerate(data_file):\n",
    "    if i<(length/4):\n",
    "        data_one.append(json.loads(line))\n",
    "data_file.close()"
   ]
  },
  {
   "cell_type": "code",
   "execution_count": 4,
   "metadata": {
    "collapsed": true
   },
   "outputs": [],
   "source": [
    "df = pd.DataFrame(data_one)"
   ]
  },
  {
   "cell_type": "code",
   "execution_count": 5,
   "metadata": {
    "collapsed": false
   },
   "outputs": [
    {
     "data": {
      "text/plain": [
       "(556303, 8)"
      ]
     },
     "execution_count": 5,
     "metadata": {},
     "output_type": "execute_result"
    }
   ],
   "source": [
    "df.shape"
   ]
  },
  {
   "cell_type": "code",
   "execution_count": 6,
   "metadata": {
    "collapsed": true
   },
   "outputs": [],
   "source": [
    "data_main = []\n",
    "with open('F:\\yelp\\yelp_academic_dataset_user.json') as f:\n",
    "    for line in f:\n",
    "        data_main.append(json.loads(line))"
   ]
  },
  {
   "cell_type": "code",
   "execution_count": 7,
   "metadata": {
    "collapsed": true
   },
   "outputs": [],
   "source": [
    "df_user = pd.DataFrame(data_main)"
   ]
  },
  {
   "cell_type": "code",
   "execution_count": 8,
   "metadata": {
    "collapsed": true
   },
   "outputs": [],
   "source": [
    "def user_with_friends(x):\n",
    "    if len(x['friends']) != 0:\n",
    "        return x"
   ]
  },
  {
   "cell_type": "code",
   "execution_count": 9,
   "metadata": {
    "collapsed": true
   },
   "outputs": [],
   "source": [
    "df_user_with_friends = df_user.apply(user_with_friends, axis=1)"
   ]
  },
  {
   "cell_type": "code",
   "execution_count": 10,
   "metadata": {
    "collapsed": true
   },
   "outputs": [],
   "source": [
    "df_user_with_friends = df_user_with_friends.dropna()"
   ]
  },
  {
   "cell_type": "code",
   "execution_count": 11,
   "metadata": {
    "collapsed": false
   },
   "outputs": [
    {
     "data": {
      "text/plain": [
       "(552339, 11)"
      ]
     },
     "execution_count": 11,
     "metadata": {},
     "output_type": "execute_result"
    }
   ],
   "source": [
    "df_user.shape\n"
   ]
  },
  {
   "cell_type": "code",
   "execution_count": 12,
   "metadata": {
    "collapsed": false
   },
   "outputs": [
    {
     "data": {
      "text/plain": [
       "(249440, 11)"
      ]
     },
     "execution_count": 12,
     "metadata": {},
     "output_type": "execute_result"
    }
   ],
   "source": [
    "df_user_with_friends.shape"
   ]
  },
  {
   "cell_type": "code",
   "execution_count": 13,
   "metadata": {
    "collapsed": true
   },
   "outputs": [],
   "source": [
    "merged_df = pd.merge(df, df_user_with_friends, on='user_id', how='inner')"
   ]
  },
  {
   "cell_type": "code",
   "execution_count": 14,
   "metadata": {
    "collapsed": false
   },
   "outputs": [
    {
     "data": {
      "text/html": [
       "<div>\n",
       "<table border=\"1\" class=\"dataframe\">\n",
       "  <thead>\n",
       "    <tr style=\"text-align: right;\">\n",
       "      <th></th>\n",
       "      <th>business_id</th>\n",
       "      <th>date</th>\n",
       "      <th>review_id</th>\n",
       "      <th>stars</th>\n",
       "      <th>text</th>\n",
       "      <th>type_x</th>\n",
       "      <th>user_id</th>\n",
       "      <th>votes_x</th>\n",
       "      <th>average_stars</th>\n",
       "      <th>compliments</th>\n",
       "      <th>elite</th>\n",
       "      <th>fans</th>\n",
       "      <th>friends</th>\n",
       "      <th>name</th>\n",
       "      <th>review_count</th>\n",
       "      <th>type_y</th>\n",
       "      <th>votes_y</th>\n",
       "      <th>yelping_since</th>\n",
       "    </tr>\n",
       "  </thead>\n",
       "  <tbody>\n",
       "    <tr>\n",
       "      <th>0</th>\n",
       "      <td>UsFtqoBl7naz8AVUBZMjQQ</td>\n",
       "      <td>2013-11-08</td>\n",
       "      <td>Di3exaUCFNw1V4kSNW5pgA</td>\n",
       "      <td>5</td>\n",
       "      <td>All the food is great here. But the best thing...</td>\n",
       "      <td>review</td>\n",
       "      <td>uK8tzraOp4M5u3uYrqIBXg</td>\n",
       "      <td>{u'funny': 0, u'useful': 0, u'cool': 0}</td>\n",
       "      <td>3.84</td>\n",
       "      <td>{}</td>\n",
       "      <td>[]</td>\n",
       "      <td>2</td>\n",
       "      <td>[53wSMIztehsjP-vJZBS54A, CXhOU5apSRSTtEUiyoqH3Q]</td>\n",
       "      <td>Robin</td>\n",
       "      <td>46</td>\n",
       "      <td>user</td>\n",
       "      <td>{u'funny': 2, u'useful': 36, u'cool': 5}</td>\n",
       "      <td>2013-05</td>\n",
       "    </tr>\n",
       "  </tbody>\n",
       "</table>\n",
       "</div>"
      ],
      "text/plain": [
       "              business_id        date               review_id  stars  \\\n",
       "0  UsFtqoBl7naz8AVUBZMjQQ  2013-11-08  Di3exaUCFNw1V4kSNW5pgA      5   \n",
       "\n",
       "                                                text  type_x  \\\n",
       "0  All the food is great here. But the best thing...  review   \n",
       "\n",
       "                  user_id                                  votes_x  \\\n",
       "0  uK8tzraOp4M5u3uYrqIBXg  {u'funny': 0, u'useful': 0, u'cool': 0}   \n",
       "\n",
       "   average_stars compliments elite  fans  \\\n",
       "0           3.84          {}    []     2   \n",
       "\n",
       "                                            friends   name  review_count  \\\n",
       "0  [53wSMIztehsjP-vJZBS54A, CXhOU5apSRSTtEUiyoqH3Q]  Robin            46   \n",
       "\n",
       "  type_y                                   votes_y yelping_since  \n",
       "0   user  {u'funny': 2, u'useful': 36, u'cool': 5}       2013-05  "
      ]
     },
     "execution_count": 14,
     "metadata": {},
     "output_type": "execute_result"
    }
   ],
   "source": [
    "merged_df.head(n=1)"
   ]
  },
  {
   "cell_type": "code",
   "execution_count": 15,
   "metadata": {
    "collapsed": false
   },
   "outputs": [
    {
     "data": {
      "text/plain": [
       "(394815, 18)"
      ]
     },
     "execution_count": 15,
     "metadata": {},
     "output_type": "execute_result"
    }
   ],
   "source": [
    "merged_df.shape"
   ]
  },
  {
   "cell_type": "code",
   "execution_count": 16,
   "metadata": {
    "collapsed": false
   },
   "outputs": [
    {
     "data": {
      "text/plain": [
       "2     36085\n",
       "1     38347\n",
       "3     63586\n",
       "4    124241\n",
       "5    132556\n",
       "Name: stars, dtype: int64"
      ]
     },
     "execution_count": 16,
     "metadata": {},
     "output_type": "execute_result"
    }
   ],
   "source": [
    "merged_df.stars.value_counts(ascending=True)"
   ]
  },
  {
   "cell_type": "code",
   "execution_count": 17,
   "metadata": {
    "collapsed": true
   },
   "outputs": [],
   "source": [
    "data_business = []\n",
    "with open('F:\\yelp\\yelp_academic_dataset_business.json') as f:\n",
    "    for line in f:\n",
    "        data_business.append(json.loads(line))"
   ]
  },
  {
   "cell_type": "code",
   "execution_count": 18,
   "metadata": {
    "collapsed": true
   },
   "outputs": [],
   "source": [
    "df_business = pd.DataFrame(data_business)"
   ]
  },
  {
   "cell_type": "code",
   "execution_count": 19,
   "metadata": {
    "collapsed": true
   },
   "outputs": [],
   "source": [
    "business_merged_df = pd.merge(merged_df, df_business, on='business_id', how='inner')"
   ]
  },
  {
   "cell_type": "code",
   "execution_count": 20,
   "metadata": {
    "collapsed": false
   },
   "outputs": [
    {
     "data": {
      "text/plain": [
       "(394815, 32)"
      ]
     },
     "execution_count": 20,
     "metadata": {},
     "output_type": "execute_result"
    }
   ],
   "source": [
    "business_merged_df.shape"
   ]
  },
  {
   "cell_type": "code",
   "execution_count": 21,
   "metadata": {
    "collapsed": true
   },
   "outputs": [],
   "source": [
    "business_merged_df.drop(['neighborhoods', 'latitude', 'longitude', 'elite', 'yelping_since', 'compliments', 'full_address', 'city', 'state',\n",
    "                         'open', 'hours', 'attributes'], axis=1, inplace=True)"
   ]
  },
  {
   "cell_type": "code",
   "execution_count": 22,
   "metadata": {
    "collapsed": false
   },
   "outputs": [
    {
     "data": {
      "text/html": [
       "<div>\n",
       "<table border=\"1\" class=\"dataframe\">\n",
       "  <thead>\n",
       "    <tr style=\"text-align: right;\">\n",
       "      <th></th>\n",
       "      <th>business_id</th>\n",
       "      <th>date</th>\n",
       "      <th>review_id</th>\n",
       "      <th>stars_x</th>\n",
       "      <th>text</th>\n",
       "      <th>type_x</th>\n",
       "      <th>user_id</th>\n",
       "      <th>votes_x</th>\n",
       "      <th>average_stars</th>\n",
       "      <th>fans</th>\n",
       "      <th>friends</th>\n",
       "      <th>name_x</th>\n",
       "      <th>review_count_x</th>\n",
       "      <th>type_y</th>\n",
       "      <th>votes_y</th>\n",
       "      <th>categories</th>\n",
       "      <th>name_y</th>\n",
       "      <th>review_count_y</th>\n",
       "      <th>stars_y</th>\n",
       "      <th>type</th>\n",
       "    </tr>\n",
       "  </thead>\n",
       "  <tbody>\n",
       "    <tr>\n",
       "      <th>0</th>\n",
       "      <td>UsFtqoBl7naz8AVUBZMjQQ</td>\n",
       "      <td>2013-11-08</td>\n",
       "      <td>Di3exaUCFNw1V4kSNW5pgA</td>\n",
       "      <td>5</td>\n",
       "      <td>All the food is great here. But the best thing...</td>\n",
       "      <td>review</td>\n",
       "      <td>uK8tzraOp4M5u3uYrqIBXg</td>\n",
       "      <td>{u'funny': 0, u'useful': 0, u'cool': 0}</td>\n",
       "      <td>3.84</td>\n",
       "      <td>2</td>\n",
       "      <td>[53wSMIztehsjP-vJZBS54A, CXhOU5apSRSTtEUiyoqH3Q]</td>\n",
       "      <td>Robin</td>\n",
       "      <td>46</td>\n",
       "      <td>user</td>\n",
       "      <td>{u'funny': 2, u'useful': 36, u'cool': 5}</td>\n",
       "      <td>[Nightlife]</td>\n",
       "      <td>Clancy's Pub</td>\n",
       "      <td>4</td>\n",
       "      <td>3.5</td>\n",
       "      <td>business</td>\n",
       "    </tr>\n",
       "  </tbody>\n",
       "</table>\n",
       "</div>"
      ],
      "text/plain": [
       "              business_id        date               review_id  stars_x  \\\n",
       "0  UsFtqoBl7naz8AVUBZMjQQ  2013-11-08  Di3exaUCFNw1V4kSNW5pgA        5   \n",
       "\n",
       "                                                text  type_x  \\\n",
       "0  All the food is great here. But the best thing...  review   \n",
       "\n",
       "                  user_id                                  votes_x  \\\n",
       "0  uK8tzraOp4M5u3uYrqIBXg  {u'funny': 0, u'useful': 0, u'cool': 0}   \n",
       "\n",
       "   average_stars  fans                                           friends  \\\n",
       "0           3.84     2  [53wSMIztehsjP-vJZBS54A, CXhOU5apSRSTtEUiyoqH3Q]   \n",
       "\n",
       "  name_x  review_count_x type_y                                   votes_y  \\\n",
       "0  Robin              46   user  {u'funny': 2, u'useful': 36, u'cool': 5}   \n",
       "\n",
       "    categories        name_y  review_count_y  stars_y      type  \n",
       "0  [Nightlife]  Clancy's Pub               4      3.5  business  "
      ]
     },
     "execution_count": 22,
     "metadata": {},
     "output_type": "execute_result"
    }
   ],
   "source": [
    "business_merged_df.head(n=1)"
   ]
  },
  {
   "cell_type": "code",
   "execution_count": 24,
   "metadata": {
    "collapsed": false
   },
   "outputs": [
    {
     "name": "stdout",
     "output_type": "stream",
     "text": [
      "1 loops, best of 3: 1.34 s per loop\n"
     ]
    },
    {
     "name": "stderr",
     "output_type": "stream",
     "text": [
      "F:\\PythonIDE\\lib\\site-packages\\ipykernel\\__main__.py:257: FutureWarning: by argument to sort_index is deprecated, pls use .sort_values(by=...)\n"
     ]
    }
   ],
   "source": [
    "%timeit business_sorted_df = business_merged_df.sort_index(by=['business_id'], ascending=[True])"
   ]
  },
  {
   "cell_type": "code",
   "execution_count": 55,
   "metadata": {
    "collapsed": false
   },
   "outputs": [
    {
     "name": "stdout",
     "output_type": "stream",
     "text": [
      "[u'Nightlife']\n",
      "[u'Nightlife']\n",
      "[u'Nightlife']\n"
     ]
    }
   ],
   "source": [
    "for row in business_merged_df.itertuples():\n",
    "    if row[1] == 'UsFtqoBl7naz8AVUBZMjQQ':\n",
    "        print row[16]"
   ]
  },
  {
   "cell_type": "code",
   "execution_count": 76,
   "metadata": {
    "collapsed": true
   },
   "outputs": [],
   "source": [
    "business_merged_df = business_merged_df.loc[business_merged_df.categories.apply(lambda cat: 'Food' in cat or 'Restaurants' in cat)]"
   ]
  },
  {
   "cell_type": "code",
   "execution_count": 79,
   "metadata": {
    "collapsed": false
   },
   "outputs": [
    {
     "data": {
      "text/plain": [
       "(252836, 21)"
      ]
     },
     "execution_count": 79,
     "metadata": {},
     "output_type": "execute_result"
    }
   ],
   "source": [
    "business_merged_df.shape"
   ]
  },
  {
   "cell_type": "code",
   "execution_count": 81,
   "metadata": {
    "collapsed": true
   },
   "outputs": [],
   "source": [
    "grouped = business_merged_df.groupby(business_merged_df['business_id'])"
   ]
  },
  {
   "cell_type": "code",
   "execution_count": 82,
   "metadata": {
    "collapsed": true
   },
   "outputs": [],
   "source": [
    "def look_for_user_ratings1(group, biz_id):\n",
    "    ur = []\n",
    "    for row in group.itertuples():\n",
    "        ur.append({\n",
    "                \"user_id\": row[7],\n",
    "                \"user_rating\": row[4],\n",
    "            })\n",
    "    return ur\n"
   ]
  },
  {
   "cell_type": "code",
   "execution_count": 83,
   "metadata": {
    "collapsed": true
   },
   "outputs": [],
   "source": [
    "business_user1 = {}\n",
    "li = []\n",
    "for business_id, group in grouped:\n",
    "    business_user1.update({\n",
    "        business_id: look_for_user_ratings1(group, business_id)\n",
    "    })"
   ]
  },
  {
   "cell_type": "code",
   "execution_count": 95,
   "metadata": {
    "collapsed": false
   },
   "outputs": [
    {
     "name": "stdout",
     "output_type": "stream",
     "text": [
      "[{'user_rating': 5, 'user_id': u'F6QsMoJdvtohlbnST-fDyQ'}, {'user_rating': 3, 'user_id': u'wuCszpVPMIMyOCualnZtaw'}, {'user_rating': 2, 'user_id': u'pQ6ij6cOBRB3yJGHbVZHUQ'}, {'user_rating': 4, 'user_id': u'MNfOCJZsbtMbnDlvJ1LKeQ'}, {'user_rating': 5, 'user_id': u'_LsbT_uW0UE6rhsWiAIrsg'}, {'user_rating': 3, 'user_id': u'ND95DgvN7ba8MabfXE3lsw'}, {'user_rating': 3, 'user_id': u'qeljTFFJaZE-HJ6RKx0iFg'}, {'user_rating': 4, 'user_id': u'HxZ6tI_7G1ssxlZGV6dByA'}]\n"
     ]
    }
   ],
   "source": [
    "print business_user1.get('PSAK5sUss8yiN7Q_72Zlxw')"
   ]
  },
  {
   "cell_type": "code",
   "execution_count": 93,
   "metadata": {
    "collapsed": false
   },
   "outputs": [
    {
     "name": "stdout",
     "output_type": "stream",
     "text": [
      "user idF6QsMoJdvtohlbnST-fDyQ rated 5\n",
      "user idwuCszpVPMIMyOCualnZtaw rated 3\n",
      "user idpQ6ij6cOBRB3yJGHbVZHUQ rated 2\n",
      "user idMNfOCJZsbtMbnDlvJ1LKeQ rated 4\n",
      "user id_LsbT_uW0UE6rhsWiAIrsg rated 5\n",
      "user idND95DgvN7ba8MabfXE3lsw rated 3\n",
      "user idqeljTFFJaZE-HJ6RKx0iFg rated 3\n",
      "user idHxZ6tI_7G1ssxlZGV6dByA rated 4\n"
     ]
    }
   ],
   "source": [
    "for row in business_merged_df.itertuples():\n",
    "    if row[1] == \"PSAK5sUss8yiN7Q_72Zlxw\":\n",
    "        print \"user id\" + str(row[7]) + \" rated \" + str(row[4])"
   ]
  },
  {
   "cell_type": "code",
   "execution_count": 84,
   "metadata": {
    "collapsed": true
   },
   "outputs": [],
   "source": [
    "##This is the 2nd hashmap\n",
    "\n",
    "user_friends = {}\n",
    "\n",
    "for row in df_user_with_friends.itertuples():\n",
    "    user_id = row[9]\n",
    "#    print user_id\n",
    "    user_friends.update({\n",
    "        user_id: row[5],\n",
    "    })"
   ]
  },
  {
   "cell_type": "code",
   "execution_count": 103,
   "metadata": {
    "collapsed": false
   },
   "outputs": [
    {
     "data": {
      "text/html": [
       "<div>\n",
       "<table border=\"1\" class=\"dataframe\">\n",
       "  <thead>\n",
       "    <tr style=\"text-align: right;\">\n",
       "      <th></th>\n",
       "      <th>business_id</th>\n",
       "      <th>date</th>\n",
       "      <th>review_id</th>\n",
       "      <th>stars_x</th>\n",
       "      <th>text</th>\n",
       "      <th>type_x</th>\n",
       "      <th>user_id</th>\n",
       "      <th>votes_x</th>\n",
       "      <th>average_stars</th>\n",
       "      <th>fans</th>\n",
       "      <th>...</th>\n",
       "      <th>name_x</th>\n",
       "      <th>review_count_x</th>\n",
       "      <th>type_y</th>\n",
       "      <th>votes_y</th>\n",
       "      <th>categories</th>\n",
       "      <th>name_y</th>\n",
       "      <th>review_count_y</th>\n",
       "      <th>stars_y</th>\n",
       "      <th>type</th>\n",
       "      <th>desired_category</th>\n",
       "    </tr>\n",
       "  </thead>\n",
       "  <tbody>\n",
       "    <tr>\n",
       "      <th>3</th>\n",
       "      <td>mVHrayjG3uZ_RLHkLj-AMg</td>\n",
       "      <td>2013-10-20</td>\n",
       "      <td>KAkcn7oQP1xX8KsZ-XmktA</td>\n",
       "      <td>4</td>\n",
       "      <td>This place was very good. I found out about Em...</td>\n",
       "      <td>review</td>\n",
       "      <td>uK8tzraOp4M5u3uYrqIBXg</td>\n",
       "      <td>{u'funny': 0, u'useful': 1, u'cool': 0}</td>\n",
       "      <td>3.84</td>\n",
       "      <td>2</td>\n",
       "      <td>...</td>\n",
       "      <td>Robin</td>\n",
       "      <td>46</td>\n",
       "      <td>user</td>\n",
       "      <td>{u'funny': 2, u'useful': 36, u'cool': 5}</td>\n",
       "      <td>[Bars, American (New), Nightlife, Lounges, Res...</td>\n",
       "      <td>Emil's Lounge</td>\n",
       "      <td>20</td>\n",
       "      <td>5.0</td>\n",
       "      <td>business</td>\n",
       "      <td>foodie</td>\n",
       "    </tr>\n",
       "    <tr>\n",
       "      <th>4</th>\n",
       "      <td>mVHrayjG3uZ_RLHkLj-AMg</td>\n",
       "      <td>2013-03-15</td>\n",
       "      <td>jVVv_DA5mCDB6mediuwHAw</td>\n",
       "      <td>5</td>\n",
       "      <td>Can't miss stop for the best Fish Sandwich in ...</td>\n",
       "      <td>review</td>\n",
       "      <td>m1FpV3EAeggaAdfPx0hBRQ</td>\n",
       "      <td>{u'funny': 0, u'useful': 0, u'cool': 0}</td>\n",
       "      <td>4.00</td>\n",
       "      <td>1</td>\n",
       "      <td>...</td>\n",
       "      <td>Fred</td>\n",
       "      <td>4</td>\n",
       "      <td>user</td>\n",
       "      <td>{u'funny': 1, u'useful': 1, u'cool': 0}</td>\n",
       "      <td>[Bars, American (New), Nightlife, Lounges, Res...</td>\n",
       "      <td>Emil's Lounge</td>\n",
       "      <td>20</td>\n",
       "      <td>5.0</td>\n",
       "      <td>business</td>\n",
       "      <td>foodie</td>\n",
       "    </tr>\n",
       "    <tr>\n",
       "      <th>5</th>\n",
       "      <td>mVHrayjG3uZ_RLHkLj-AMg</td>\n",
       "      <td>2013-03-30</td>\n",
       "      <td>3Es8GsjkssusYgeU6_ZVpQ</td>\n",
       "      <td>5</td>\n",
       "      <td>This place should have a lot more reviews - bu...</td>\n",
       "      <td>review</td>\n",
       "      <td>8fApIAMHn2MZJFUiCQto5Q</td>\n",
       "      <td>{u'funny': 0, u'useful': 3, u'cool': 1}</td>\n",
       "      <td>3.40</td>\n",
       "      <td>0</td>\n",
       "      <td>...</td>\n",
       "      <td>Bennett</td>\n",
       "      <td>34</td>\n",
       "      <td>user</td>\n",
       "      <td>{u'funny': 16, u'useful': 42, u'cool': 10}</td>\n",
       "      <td>[Bars, American (New), Nightlife, Lounges, Res...</td>\n",
       "      <td>Emil's Lounge</td>\n",
       "      <td>20</td>\n",
       "      <td>5.0</td>\n",
       "      <td>business</td>\n",
       "      <td>foodie</td>\n",
       "    </tr>\n",
       "    <tr>\n",
       "      <th>6</th>\n",
       "      <td>mVHrayjG3uZ_RLHkLj-AMg</td>\n",
       "      <td>2013-11-07</td>\n",
       "      <td>BZNJkkP0bXnwQ2-sCqat2Q</td>\n",
       "      <td>5</td>\n",
       "      <td>Old school.....traditional \"mom 'n pop\" qualit...</td>\n",
       "      <td>review</td>\n",
       "      <td>6wvlM5L4_EroGXbnb_92xQ</td>\n",
       "      <td>{u'funny': 0, u'useful': 0, u'cool': 0}</td>\n",
       "      <td>2.92</td>\n",
       "      <td>0</td>\n",
       "      <td>...</td>\n",
       "      <td>David</td>\n",
       "      <td>13</td>\n",
       "      <td>user</td>\n",
       "      <td>{u'funny': 15, u'useful': 35, u'cool': 6}</td>\n",
       "      <td>[Bars, American (New), Nightlife, Lounges, Res...</td>\n",
       "      <td>Emil's Lounge</td>\n",
       "      <td>20</td>\n",
       "      <td>5.0</td>\n",
       "      <td>business</td>\n",
       "      <td>foodie</td>\n",
       "    </tr>\n",
       "    <tr>\n",
       "      <th>7</th>\n",
       "      <td>mVHrayjG3uZ_RLHkLj-AMg</td>\n",
       "      <td>2014-11-03</td>\n",
       "      <td>uf61rPucuICXhSPXlZ1hIQ</td>\n",
       "      <td>5</td>\n",
       "      <td>After a morning of Thrift Store hunting, a fri...</td>\n",
       "      <td>review</td>\n",
       "      <td>tAKjY3bQXH51msJbOHYPmQ</td>\n",
       "      <td>{u'funny': 0, u'useful': 3, u'cool': 1}</td>\n",
       "      <td>3.52</td>\n",
       "      <td>8</td>\n",
       "      <td>...</td>\n",
       "      <td>William</td>\n",
       "      <td>118</td>\n",
       "      <td>user</td>\n",
       "      <td>{u'funny': 195, u'useful': 457, u'cool': 162}</td>\n",
       "      <td>[Bars, American (New), Nightlife, Lounges, Res...</td>\n",
       "      <td>Emil's Lounge</td>\n",
       "      <td>20</td>\n",
       "      <td>5.0</td>\n",
       "      <td>business</td>\n",
       "      <td>foodie</td>\n",
       "    </tr>\n",
       "    <tr>\n",
       "      <th>8</th>\n",
       "      <td>mVHrayjG3uZ_RLHkLj-AMg</td>\n",
       "      <td>2014-12-18</td>\n",
       "      <td>xY2gjy49dnpQSB2RTZzqCw</td>\n",
       "      <td>4</td>\n",
       "      <td>This is a hidden gem, no really. It took us fo...</td>\n",
       "      <td>review</td>\n",
       "      <td>Kq8-FUG7d_MT2qRNiNBJnA</td>\n",
       "      <td>{u'funny': 0, u'useful': 0, u'cool': 0}</td>\n",
       "      <td>4.26</td>\n",
       "      <td>2</td>\n",
       "      <td>...</td>\n",
       "      <td>Gloria</td>\n",
       "      <td>19</td>\n",
       "      <td>user</td>\n",
       "      <td>{u'funny': 0, u'useful': 2, u'cool': 1}</td>\n",
       "      <td>[Bars, American (New), Nightlife, Lounges, Res...</td>\n",
       "      <td>Emil's Lounge</td>\n",
       "      <td>20</td>\n",
       "      <td>5.0</td>\n",
       "      <td>business</td>\n",
       "      <td>foodie</td>\n",
       "    </tr>\n",
       "    <tr>\n",
       "      <th>9</th>\n",
       "      <td>mVHrayjG3uZ_RLHkLj-AMg</td>\n",
       "      <td>2015-03-06</td>\n",
       "      <td>1W1vq7D1ofwFKbCA_GWu_A</td>\n",
       "      <td>5</td>\n",
       "      <td>From reading the other reviews, I see this pla...</td>\n",
       "      <td>review</td>\n",
       "      <td>a0ULPTNi05w-BNVovVUz2w</td>\n",
       "      <td>{u'funny': 1, u'useful': 2, u'cool': 4}</td>\n",
       "      <td>3.92</td>\n",
       "      <td>3</td>\n",
       "      <td>...</td>\n",
       "      <td>Sean</td>\n",
       "      <td>13</td>\n",
       "      <td>user</td>\n",
       "      <td>{u'funny': 12, u'useful': 25, u'cool': 25}</td>\n",
       "      <td>[Bars, American (New), Nightlife, Lounges, Res...</td>\n",
       "      <td>Emil's Lounge</td>\n",
       "      <td>20</td>\n",
       "      <td>5.0</td>\n",
       "      <td>business</td>\n",
       "      <td>foodie</td>\n",
       "    </tr>\n",
       "    <tr>\n",
       "      <th>10</th>\n",
       "      <td>mVHrayjG3uZ_RLHkLj-AMg</td>\n",
       "      <td>2015-03-08</td>\n",
       "      <td>6A5nASW8_XRwDxV29cWGUQ</td>\n",
       "      <td>4</td>\n",
       "      <td>Another divey place we have been going to for ...</td>\n",
       "      <td>review</td>\n",
       "      <td>-ke0O45_B6STtEqd5s_ANw</td>\n",
       "      <td>{u'funny': 0, u'useful': 0, u'cool': 0}</td>\n",
       "      <td>4.24</td>\n",
       "      <td>0</td>\n",
       "      <td>...</td>\n",
       "      <td>Arla</td>\n",
       "      <td>17</td>\n",
       "      <td>user</td>\n",
       "      <td>{u'funny': 3, u'useful': 18, u'cool': 5}</td>\n",
       "      <td>[Bars, American (New), Nightlife, Lounges, Res...</td>\n",
       "      <td>Emil's Lounge</td>\n",
       "      <td>20</td>\n",
       "      <td>5.0</td>\n",
       "      <td>business</td>\n",
       "      <td>foodie</td>\n",
       "    </tr>\n",
       "    <tr>\n",
       "      <th>11</th>\n",
       "      <td>mVHrayjG3uZ_RLHkLj-AMg</td>\n",
       "      <td>2015-12-04</td>\n",
       "      <td>MKEs8po2_DFt9msCp8w68A</td>\n",
       "      <td>5</td>\n",
       "      <td>We have been coming here for over 30 years, co...</td>\n",
       "      <td>review</td>\n",
       "      <td>LQUy7D5Bzb2WutEXhVg2Tw</td>\n",
       "      <td>{u'funny': 0, u'useful': 0, u'cool': 0}</td>\n",
       "      <td>5.00</td>\n",
       "      <td>0</td>\n",
       "      <td>...</td>\n",
       "      <td>Jennifer</td>\n",
       "      <td>1</td>\n",
       "      <td>user</td>\n",
       "      <td>{u'funny': 0, u'useful': 0, u'cool': 0}</td>\n",
       "      <td>[Bars, American (New), Nightlife, Lounges, Res...</td>\n",
       "      <td>Emil's Lounge</td>\n",
       "      <td>20</td>\n",
       "      <td>5.0</td>\n",
       "      <td>business</td>\n",
       "      <td>foodie</td>\n",
       "    </tr>\n",
       "    <tr>\n",
       "      <th>12</th>\n",
       "      <td>k1A8pNspBPinGDivxkuDSA</td>\n",
       "      <td>2013-11-08</td>\n",
       "      <td>3PqxM6TD-MHsofAIqOoMKw</td>\n",
       "      <td>4</td>\n",
       "      <td>If you love Pittsburgh sports &amp; classic Pittsb...</td>\n",
       "      <td>review</td>\n",
       "      <td>uK8tzraOp4M5u3uYrqIBXg</td>\n",
       "      <td>{u'funny': 0, u'useful': 0, u'cool': 0}</td>\n",
       "      <td>3.84</td>\n",
       "      <td>2</td>\n",
       "      <td>...</td>\n",
       "      <td>Robin</td>\n",
       "      <td>46</td>\n",
       "      <td>user</td>\n",
       "      <td>{u'funny': 2, u'useful': 36, u'cool': 5}</td>\n",
       "      <td>[Bars, American (Traditional), Nightlife, Rest...</td>\n",
       "      <td>Clark Bar &amp; Grill</td>\n",
       "      <td>11</td>\n",
       "      <td>3.5</td>\n",
       "      <td>business</td>\n",
       "      <td>foodie</td>\n",
       "    </tr>\n",
       "  </tbody>\n",
       "</table>\n",
       "<p>10 rows × 21 columns</p>\n",
       "</div>"
      ],
      "text/plain": [
       "               business_id        date               review_id  stars_x  \\\n",
       "3   mVHrayjG3uZ_RLHkLj-AMg  2013-10-20  KAkcn7oQP1xX8KsZ-XmktA        4   \n",
       "4   mVHrayjG3uZ_RLHkLj-AMg  2013-03-15  jVVv_DA5mCDB6mediuwHAw        5   \n",
       "5   mVHrayjG3uZ_RLHkLj-AMg  2013-03-30  3Es8GsjkssusYgeU6_ZVpQ        5   \n",
       "6   mVHrayjG3uZ_RLHkLj-AMg  2013-11-07  BZNJkkP0bXnwQ2-sCqat2Q        5   \n",
       "7   mVHrayjG3uZ_RLHkLj-AMg  2014-11-03  uf61rPucuICXhSPXlZ1hIQ        5   \n",
       "8   mVHrayjG3uZ_RLHkLj-AMg  2014-12-18  xY2gjy49dnpQSB2RTZzqCw        4   \n",
       "9   mVHrayjG3uZ_RLHkLj-AMg  2015-03-06  1W1vq7D1ofwFKbCA_GWu_A        5   \n",
       "10  mVHrayjG3uZ_RLHkLj-AMg  2015-03-08  6A5nASW8_XRwDxV29cWGUQ        4   \n",
       "11  mVHrayjG3uZ_RLHkLj-AMg  2015-12-04  MKEs8po2_DFt9msCp8w68A        5   \n",
       "12  k1A8pNspBPinGDivxkuDSA  2013-11-08  3PqxM6TD-MHsofAIqOoMKw        4   \n",
       "\n",
       "                                                 text  type_x  \\\n",
       "3   This place was very good. I found out about Em...  review   \n",
       "4   Can't miss stop for the best Fish Sandwich in ...  review   \n",
       "5   This place should have a lot more reviews - bu...  review   \n",
       "6   Old school.....traditional \"mom 'n pop\" qualit...  review   \n",
       "7   After a morning of Thrift Store hunting, a fri...  review   \n",
       "8   This is a hidden gem, no really. It took us fo...  review   \n",
       "9   From reading the other reviews, I see this pla...  review   \n",
       "10  Another divey place we have been going to for ...  review   \n",
       "11  We have been coming here for over 30 years, co...  review   \n",
       "12  If you love Pittsburgh sports & classic Pittsb...  review   \n",
       "\n",
       "                   user_id                                  votes_x  \\\n",
       "3   uK8tzraOp4M5u3uYrqIBXg  {u'funny': 0, u'useful': 1, u'cool': 0}   \n",
       "4   m1FpV3EAeggaAdfPx0hBRQ  {u'funny': 0, u'useful': 0, u'cool': 0}   \n",
       "5   8fApIAMHn2MZJFUiCQto5Q  {u'funny': 0, u'useful': 3, u'cool': 1}   \n",
       "6   6wvlM5L4_EroGXbnb_92xQ  {u'funny': 0, u'useful': 0, u'cool': 0}   \n",
       "7   tAKjY3bQXH51msJbOHYPmQ  {u'funny': 0, u'useful': 3, u'cool': 1}   \n",
       "8   Kq8-FUG7d_MT2qRNiNBJnA  {u'funny': 0, u'useful': 0, u'cool': 0}   \n",
       "9   a0ULPTNi05w-BNVovVUz2w  {u'funny': 1, u'useful': 2, u'cool': 4}   \n",
       "10  -ke0O45_B6STtEqd5s_ANw  {u'funny': 0, u'useful': 0, u'cool': 0}   \n",
       "11  LQUy7D5Bzb2WutEXhVg2Tw  {u'funny': 0, u'useful': 0, u'cool': 0}   \n",
       "12  uK8tzraOp4M5u3uYrqIBXg  {u'funny': 0, u'useful': 0, u'cool': 0}   \n",
       "\n",
       "    average_stars  fans       ...           name_x review_count_x  type_y  \\\n",
       "3            3.84     2       ...            Robin             46    user   \n",
       "4            4.00     1       ...             Fred              4    user   \n",
       "5            3.40     0       ...          Bennett             34    user   \n",
       "6            2.92     0       ...            David             13    user   \n",
       "7            3.52     8       ...          William            118    user   \n",
       "8            4.26     2       ...           Gloria             19    user   \n",
       "9            3.92     3       ...             Sean             13    user   \n",
       "10           4.24     0       ...             Arla             17    user   \n",
       "11           5.00     0       ...         Jennifer              1    user   \n",
       "12           3.84     2       ...            Robin             46    user   \n",
       "\n",
       "                                          votes_y  \\\n",
       "3        {u'funny': 2, u'useful': 36, u'cool': 5}   \n",
       "4         {u'funny': 1, u'useful': 1, u'cool': 0}   \n",
       "5      {u'funny': 16, u'useful': 42, u'cool': 10}   \n",
       "6       {u'funny': 15, u'useful': 35, u'cool': 6}   \n",
       "7   {u'funny': 195, u'useful': 457, u'cool': 162}   \n",
       "8         {u'funny': 0, u'useful': 2, u'cool': 1}   \n",
       "9      {u'funny': 12, u'useful': 25, u'cool': 25}   \n",
       "10       {u'funny': 3, u'useful': 18, u'cool': 5}   \n",
       "11        {u'funny': 0, u'useful': 0, u'cool': 0}   \n",
       "12       {u'funny': 2, u'useful': 36, u'cool': 5}   \n",
       "\n",
       "                                           categories             name_y  \\\n",
       "3   [Bars, American (New), Nightlife, Lounges, Res...      Emil's Lounge   \n",
       "4   [Bars, American (New), Nightlife, Lounges, Res...      Emil's Lounge   \n",
       "5   [Bars, American (New), Nightlife, Lounges, Res...      Emil's Lounge   \n",
       "6   [Bars, American (New), Nightlife, Lounges, Res...      Emil's Lounge   \n",
       "7   [Bars, American (New), Nightlife, Lounges, Res...      Emil's Lounge   \n",
       "8   [Bars, American (New), Nightlife, Lounges, Res...      Emil's Lounge   \n",
       "9   [Bars, American (New), Nightlife, Lounges, Res...      Emil's Lounge   \n",
       "10  [Bars, American (New), Nightlife, Lounges, Res...      Emil's Lounge   \n",
       "11  [Bars, American (New), Nightlife, Lounges, Res...      Emil's Lounge   \n",
       "12  [Bars, American (Traditional), Nightlife, Rest...  Clark Bar & Grill   \n",
       "\n",
       "   review_count_y  stars_y      type desired_category  \n",
       "3              20      5.0  business           foodie  \n",
       "4              20      5.0  business           foodie  \n",
       "5              20      5.0  business           foodie  \n",
       "6              20      5.0  business           foodie  \n",
       "7              20      5.0  business           foodie  \n",
       "8              20      5.0  business           foodie  \n",
       "9              20      5.0  business           foodie  \n",
       "10             20      5.0  business           foodie  \n",
       "11             20      5.0  business           foodie  \n",
       "12             11      3.5  business           foodie  \n",
       "\n",
       "[10 rows x 21 columns]"
      ]
     },
     "execution_count": 103,
     "metadata": {},
     "output_type": "execute_result"
    }
   ],
   "source": [
    "business_merged_df.head(n=10)"
   ]
  },
  {
   "cell_type": "code",
   "execution_count": 85,
   "metadata": {
    "collapsed": true
   },
   "outputs": [],
   "source": [
    "def look_for_business_ratings(business_user_dict, business_id, user_ids):\n",
    "    ratings = business_user_dict.get(business_id)\n",
    "    sum_of_stars = 0\n",
    "    count = 0\n",
    "    business_reviewers = [li['user_id'] for li in ratings]\n",
    "    for i, uid in enumerate(business_reviewers):\n",
    "        for user in user_ids:\n",
    "            if uid == user:\n",
    "                count += 1\n",
    "                sum_of_stars += ratings[i]['user_rating']\n",
    "    avg = float(sum_of_stars/float(count))\n",
    "    return avg"
   ]
  },
  {
   "cell_type": "code",
   "execution_count": 99,
   "metadata": {
    "collapsed": true
   },
   "outputs": [],
   "source": [
    "new_df = []\n",
    "for row in business_merged_df.itertuples():\n",
    "    business_id = row[1]\n",
    "    user_id = row[7]\n",
    "    ratings = business_user1.get(business_id)\n",
    "    \n",
    "    friends = user_friends.get(user_id)\n",
    "    business_reviewers = [li['user_id'] for li in ratings]\n",
    "\n",
    "    common_reviewers = list(set(friends) & set(business_reviewers))\n",
    "    if len(common_reviewers) == 0:\n",
    "        continue\n",
    "    else:\n",
    "        friends_avg = look_for_business_ratings(business_user1, business_id, common_reviewers)\n",
    "        \n",
    "    new_df.append({\n",
    "            \"Business_id\": business_id,\n",
    "            \"User_id\": user_id,\n",
    "            \"friends_avg_rating\": friends_avg,\n",
    "            \"user_rating\": row[4],\n",
    "            \"friends_who_rated\": len(common_reviewers),\n",
    "            \"friends\": len(friends),\n",
    "            \"no_of_reviewers\": len(business_reviewers),\n",
    "            \"business_rating\": row[19]\n",
    "        })\n",
    "\n",
    "final_df = pd.DataFrame(new_df)"
   ]
  },
  {
   "cell_type": "code",
   "execution_count": 100,
   "metadata": {
    "collapsed": false
   },
   "outputs": [
    {
     "data": {
      "text/plain": [
       "(90054, 8)"
      ]
     },
     "execution_count": 100,
     "metadata": {},
     "output_type": "execute_result"
    }
   ],
   "source": [
    " final_df.shape"
   ]
  },
  {
   "cell_type": "code",
   "execution_count": 104,
   "metadata": {
    "collapsed": true
   },
   "outputs": [],
   "source": [
    "corr_df = final_df[['friends_avg_rating', 'user_rating']]"
   ]
  },
  {
   "cell_type": "code",
   "execution_count": 105,
   "metadata": {
    "collapsed": false
   },
   "outputs": [
    {
     "data": {
      "text/html": [
       "<div>\n",
       "<table border=\"1\" class=\"dataframe\">\n",
       "  <thead>\n",
       "    <tr style=\"text-align: right;\">\n",
       "      <th></th>\n",
       "      <th>friends_avg_rating</th>\n",
       "      <th>user_rating</th>\n",
       "    </tr>\n",
       "  </thead>\n",
       "  <tbody>\n",
       "    <tr>\n",
       "      <th>friends_avg_rating</th>\n",
       "      <td>1.000000</td>\n",
       "      <td>0.321905</td>\n",
       "    </tr>\n",
       "    <tr>\n",
       "      <th>user_rating</th>\n",
       "      <td>0.321905</td>\n",
       "      <td>1.000000</td>\n",
       "    </tr>\n",
       "  </tbody>\n",
       "</table>\n",
       "</div>"
      ],
      "text/plain": [
       "                    friends_avg_rating  user_rating\n",
       "friends_avg_rating            1.000000     0.321905\n",
       "user_rating                   0.321905     1.000000"
      ]
     },
     "execution_count": 105,
     "metadata": {},
     "output_type": "execute_result"
    }
   ],
   "source": [
    "corr_df.corr()"
   ]
  },
  {
   "cell_type": "code",
   "execution_count": 119,
   "metadata": {
    "collapsed": true
   },
   "outputs": [],
   "source": [
    "corr_df1 = final_df[['business_rating', 'friends_avg_rating']]"
   ]
  },
  {
   "cell_type": "code",
   "execution_count": 120,
   "metadata": {
    "collapsed": false
   },
   "outputs": [
    {
     "data": {
      "text/html": [
       "<div>\n",
       "<table border=\"1\" class=\"dataframe\">\n",
       "  <thead>\n",
       "    <tr style=\"text-align: right;\">\n",
       "      <th></th>\n",
       "      <th>business_rating</th>\n",
       "      <th>friends_avg_rating</th>\n",
       "    </tr>\n",
       "  </thead>\n",
       "  <tbody>\n",
       "    <tr>\n",
       "      <th>business_rating</th>\n",
       "      <td>1.00000</td>\n",
       "      <td>0.47143</td>\n",
       "    </tr>\n",
       "    <tr>\n",
       "      <th>friends_avg_rating</th>\n",
       "      <td>0.47143</td>\n",
       "      <td>1.00000</td>\n",
       "    </tr>\n",
       "  </tbody>\n",
       "</table>\n",
       "</div>"
      ],
      "text/plain": [
       "                    business_rating  friends_avg_rating\n",
       "business_rating             1.00000             0.47143\n",
       "friends_avg_rating          0.47143             1.00000"
      ]
     },
     "execution_count": 120,
     "metadata": {},
     "output_type": "execute_result"
    }
   ],
   "source": [
    "corr_df1.corr()"
   ]
  },
  {
   "cell_type": "code",
   "execution_count": 101,
   "metadata": {
    "collapsed": false
   },
   "outputs": [
    {
     "data": {
      "text/html": [
       "<div>\n",
       "<table border=\"1\" class=\"dataframe\">\n",
       "  <thead>\n",
       "    <tr style=\"text-align: right;\">\n",
       "      <th></th>\n",
       "      <th>Business_id</th>\n",
       "      <th>User_id</th>\n",
       "      <th>business_rating</th>\n",
       "      <th>friends</th>\n",
       "      <th>friends_avg_rating</th>\n",
       "      <th>friends_who_rated</th>\n",
       "      <th>no_of_reviewers</th>\n",
       "      <th>user_rating</th>\n",
       "    </tr>\n",
       "  </thead>\n",
       "  <tbody>\n",
       "    <tr>\n",
       "      <th>0</th>\n",
       "      <td>mVHrayjG3uZ_RLHkLj-AMg</td>\n",
       "      <td>8fApIAMHn2MZJFUiCQto5Q</td>\n",
       "      <td>5</td>\n",
       "      <td>2</td>\n",
       "      <td>5.000000</td>\n",
       "      <td>1</td>\n",
       "      <td>9</td>\n",
       "      <td>5</td>\n",
       "    </tr>\n",
       "    <tr>\n",
       "      <th>1</th>\n",
       "      <td>mVHrayjG3uZ_RLHkLj-AMg</td>\n",
       "      <td>tAKjY3bQXH51msJbOHYPmQ</td>\n",
       "      <td>5</td>\n",
       "      <td>31</td>\n",
       "      <td>5.000000</td>\n",
       "      <td>1</td>\n",
       "      <td>9</td>\n",
       "      <td>5</td>\n",
       "    </tr>\n",
       "    <tr>\n",
       "      <th>2</th>\n",
       "      <td>YssP-_6iP0SLBsqUQGs6rQ</td>\n",
       "      <td>nEYPahVwXGD2Pjvgkm7QqQ</td>\n",
       "      <td>4</td>\n",
       "      <td>1444</td>\n",
       "      <td>4.000000</td>\n",
       "      <td>22</td>\n",
       "      <td>59</td>\n",
       "      <td>5</td>\n",
       "    </tr>\n",
       "    <tr>\n",
       "      <th>3</th>\n",
       "      <td>YssP-_6iP0SLBsqUQGs6rQ</td>\n",
       "      <td>GYNfjDbSlpdRK2qC8RqatA</td>\n",
       "      <td>4</td>\n",
       "      <td>45</td>\n",
       "      <td>4.000000</td>\n",
       "      <td>3</td>\n",
       "      <td>59</td>\n",
       "      <td>1</td>\n",
       "    </tr>\n",
       "    <tr>\n",
       "      <th>4</th>\n",
       "      <td>YssP-_6iP0SLBsqUQGs6rQ</td>\n",
       "      <td>r_96n9O0jNzbNCZDkSB0EQ</td>\n",
       "      <td>4</td>\n",
       "      <td>6</td>\n",
       "      <td>4.000000</td>\n",
       "      <td>1</td>\n",
       "      <td>59</td>\n",
       "      <td>5</td>\n",
       "    </tr>\n",
       "    <tr>\n",
       "      <th>5</th>\n",
       "      <td>YssP-_6iP0SLBsqUQGs6rQ</td>\n",
       "      <td>Enzdhh-rV5JgC4lgg0IdFw</td>\n",
       "      <td>4</td>\n",
       "      <td>149</td>\n",
       "      <td>3.333333</td>\n",
       "      <td>3</td>\n",
       "      <td>59</td>\n",
       "      <td>3</td>\n",
       "    </tr>\n",
       "    <tr>\n",
       "      <th>6</th>\n",
       "      <td>YssP-_6iP0SLBsqUQGs6rQ</td>\n",
       "      <td>ytgLwKzD6B4af5vW56RpJg</td>\n",
       "      <td>4</td>\n",
       "      <td>2</td>\n",
       "      <td>5.000000</td>\n",
       "      <td>1</td>\n",
       "      <td>59</td>\n",
       "      <td>5</td>\n",
       "    </tr>\n",
       "    <tr>\n",
       "      <th>7</th>\n",
       "      <td>YssP-_6iP0SLBsqUQGs6rQ</td>\n",
       "      <td>gtJJBaQwTwE45NnNF0coVA</td>\n",
       "      <td>4</td>\n",
       "      <td>64</td>\n",
       "      <td>4.333333</td>\n",
       "      <td>3</td>\n",
       "      <td>59</td>\n",
       "      <td>5</td>\n",
       "    </tr>\n",
       "    <tr>\n",
       "      <th>8</th>\n",
       "      <td>YssP-_6iP0SLBsqUQGs6rQ</td>\n",
       "      <td>vFgVosI6MUPX8Y23hmuMXw</td>\n",
       "      <td>4</td>\n",
       "      <td>5</td>\n",
       "      <td>5.000000</td>\n",
       "      <td>1</td>\n",
       "      <td>59</td>\n",
       "      <td>5</td>\n",
       "    </tr>\n",
       "    <tr>\n",
       "      <th>9</th>\n",
       "      <td>YssP-_6iP0SLBsqUQGs6rQ</td>\n",
       "      <td>RxEegiMllenlyhYgJqsTSQ</td>\n",
       "      <td>4</td>\n",
       "      <td>16</td>\n",
       "      <td>5.000000</td>\n",
       "      <td>1</td>\n",
       "      <td>59</td>\n",
       "      <td>4</td>\n",
       "    </tr>\n",
       "  </tbody>\n",
       "</table>\n",
       "</div>"
      ],
      "text/plain": [
       "              Business_id                 User_id  business_rating  friends  \\\n",
       "0  mVHrayjG3uZ_RLHkLj-AMg  8fApIAMHn2MZJFUiCQto5Q                5        2   \n",
       "1  mVHrayjG3uZ_RLHkLj-AMg  tAKjY3bQXH51msJbOHYPmQ                5       31   \n",
       "2  YssP-_6iP0SLBsqUQGs6rQ  nEYPahVwXGD2Pjvgkm7QqQ                4     1444   \n",
       "3  YssP-_6iP0SLBsqUQGs6rQ  GYNfjDbSlpdRK2qC8RqatA                4       45   \n",
       "4  YssP-_6iP0SLBsqUQGs6rQ  r_96n9O0jNzbNCZDkSB0EQ                4        6   \n",
       "5  YssP-_6iP0SLBsqUQGs6rQ  Enzdhh-rV5JgC4lgg0IdFw                4      149   \n",
       "6  YssP-_6iP0SLBsqUQGs6rQ  ytgLwKzD6B4af5vW56RpJg                4        2   \n",
       "7  YssP-_6iP0SLBsqUQGs6rQ  gtJJBaQwTwE45NnNF0coVA                4       64   \n",
       "8  YssP-_6iP0SLBsqUQGs6rQ  vFgVosI6MUPX8Y23hmuMXw                4        5   \n",
       "9  YssP-_6iP0SLBsqUQGs6rQ  RxEegiMllenlyhYgJqsTSQ                4       16   \n",
       "\n",
       "   friends_avg_rating  friends_who_rated  no_of_reviewers  user_rating  \n",
       "0            5.000000                  1                9            5  \n",
       "1            5.000000                  1                9            5  \n",
       "2            4.000000                 22               59            5  \n",
       "3            4.000000                  3               59            1  \n",
       "4            4.000000                  1               59            5  \n",
       "5            3.333333                  3               59            3  \n",
       "6            5.000000                  1               59            5  \n",
       "7            4.333333                  3               59            5  \n",
       "8            5.000000                  1               59            5  \n",
       "9            5.000000                  1               59            4  "
      ]
     },
     "execution_count": 101,
     "metadata": {},
     "output_type": "execute_result"
    }
   ],
   "source": [
    "final_df.head(n=10)"
   ]
  },
  {
   "cell_type": "code",
   "execution_count": 102,
   "metadata": {
    "collapsed": false
   },
   "outputs": [
    {
     "data": {
      "text/plain": [
       "1.0        4\n",
       "1.5       76\n",
       "5.0      107\n",
       "2.0      615\n",
       "2.5     2652\n",
       "3.0     8736\n",
       "4.5     9919\n",
       "3.5    26768\n",
       "4.0    41177\n",
       "Name: business_rating, dtype: int64"
      ]
     },
     "execution_count": 102,
     "metadata": {},
     "output_type": "execute_result"
    }
   ],
   "source": [
    "final_df.business_rating.value_counts(ascending=True)"
   ]
  },
  {
   "cell_type": "code",
   "execution_count": 106,
   "metadata": {
    "collapsed": true
   },
   "outputs": [],
   "source": [
    "final_df_no_duplicates = final_df.drop_duplicates(keep='first')"
   ]
  },
  {
   "cell_type": "code",
   "execution_count": 107,
   "metadata": {
    "collapsed": false
   },
   "outputs": [
    {
     "data": {
      "text/plain": [
       "(87745, 8)"
      ]
     },
     "execution_count": 107,
     "metadata": {},
     "output_type": "execute_result"
    }
   ],
   "source": [
    "final_df_no_duplicates.shape"
   ]
  },
  {
   "cell_type": "code",
   "execution_count": 108,
   "metadata": {
    "collapsed": false
   },
   "outputs": [
    {
     "data": {
      "text/plain": [
       "(3988L,)"
      ]
     },
     "execution_count": 108,
     "metadata": {},
     "output_type": "execute_result"
    }
   ],
   "source": [
    "final_df_no_duplicates.Business_id.unique().shape"
   ]
  },
  {
   "cell_type": "code",
   "execution_count": 109,
   "metadata": {
    "collapsed": true
   },
   "outputs": [],
   "source": [
    "X = final_df_no_duplicates.user_rating\n",
    "Y = final_df_no_duplicates.friends_avg_rating"
   ]
  },
  {
   "cell_type": "code",
   "execution_count": 110,
   "metadata": {
    "collapsed": true
   },
   "outputs": [],
   "source": [
    "X = X.reshape(len(X), 1)\n",
    "Y = Y.reshape(len(Y), 1)"
   ]
  },
  {
   "cell_type": "code",
   "execution_count": 111,
   "metadata": {
    "collapsed": true
   },
   "outputs": [],
   "source": [
    "clf = LinearRegression()\n",
    "clf = clf.fit(X, Y)"
   ]
  },
  {
   "cell_type": "code",
   "execution_count": 112,
   "metadata": {
    "collapsed": true
   },
   "outputs": [],
   "source": [
    "r_sqr = clf.score(X, Y)\n",
    "y_pred = clf.predict(X)\n",
    "intercept = clf.intercept_\n",
    "coefficient = clf.coef_"
   ]
  },
  {
   "cell_type": "code",
   "execution_count": 113,
   "metadata": {
    "collapsed": false
   },
   "outputs": [
    {
     "data": {
      "text/plain": [
       "0.10277195085274393"
      ]
     },
     "execution_count": 113,
     "metadata": {},
     "output_type": "execute_result"
    }
   ],
   "source": [
    "r_sqr"
   ]
  },
  {
   "cell_type": "code",
   "execution_count": 114,
   "metadata": {
    "collapsed": false
   },
   "outputs": [
    {
     "data": {
      "text/plain": [
       "array([[ 0.25124832]])"
      ]
     },
     "execution_count": 114,
     "metadata": {},
     "output_type": "execute_result"
    }
   ],
   "source": [
    "coefficient"
   ]
  },
  {
   "cell_type": "code",
   "execution_count": 115,
   "metadata": {
    "collapsed": true
   },
   "outputs": [],
   "source": [
    "final_df_no_duplicates_4 = final_df_no_duplicates[(final_df_no_duplicates.business_rating == 4)]"
   ]
  },
  {
   "cell_type": "code",
   "execution_count": 122,
   "metadata": {
    "collapsed": false
   },
   "outputs": [
    {
     "data": {
      "text/html": [
       "<div>\n",
       "<table border=\"1\" class=\"dataframe\">\n",
       "  <thead>\n",
       "    <tr style=\"text-align: right;\">\n",
       "      <th></th>\n",
       "      <th>Business_id</th>\n",
       "      <th>User_id</th>\n",
       "      <th>business_rating</th>\n",
       "      <th>friends</th>\n",
       "      <th>friends_avg_rating</th>\n",
       "      <th>friends_who_rated</th>\n",
       "      <th>no_of_reviewers</th>\n",
       "      <th>user_rating</th>\n",
       "    </tr>\n",
       "  </thead>\n",
       "  <tbody>\n",
       "    <tr>\n",
       "      <th>0</th>\n",
       "      <td>YssP-_6iP0SLBsqUQGs6rQ</td>\n",
       "      <td>nEYPahVwXGD2Pjvgkm7QqQ</td>\n",
       "      <td>4</td>\n",
       "      <td>1444</td>\n",
       "      <td>4.000000</td>\n",
       "      <td>22</td>\n",
       "      <td>59</td>\n",
       "      <td>5</td>\n",
       "    </tr>\n",
       "    <tr>\n",
       "      <th>1</th>\n",
       "      <td>YssP-_6iP0SLBsqUQGs6rQ</td>\n",
       "      <td>GYNfjDbSlpdRK2qC8RqatA</td>\n",
       "      <td>4</td>\n",
       "      <td>45</td>\n",
       "      <td>4.000000</td>\n",
       "      <td>3</td>\n",
       "      <td>59</td>\n",
       "      <td>1</td>\n",
       "    </tr>\n",
       "    <tr>\n",
       "      <th>2</th>\n",
       "      <td>YssP-_6iP0SLBsqUQGs6rQ</td>\n",
       "      <td>r_96n9O0jNzbNCZDkSB0EQ</td>\n",
       "      <td>4</td>\n",
       "      <td>6</td>\n",
       "      <td>4.000000</td>\n",
       "      <td>1</td>\n",
       "      <td>59</td>\n",
       "      <td>5</td>\n",
       "    </tr>\n",
       "    <tr>\n",
       "      <th>3</th>\n",
       "      <td>YssP-_6iP0SLBsqUQGs6rQ</td>\n",
       "      <td>Enzdhh-rV5JgC4lgg0IdFw</td>\n",
       "      <td>4</td>\n",
       "      <td>149</td>\n",
       "      <td>3.333333</td>\n",
       "      <td>3</td>\n",
       "      <td>59</td>\n",
       "      <td>3</td>\n",
       "    </tr>\n",
       "    <tr>\n",
       "      <th>4</th>\n",
       "      <td>YssP-_6iP0SLBsqUQGs6rQ</td>\n",
       "      <td>ytgLwKzD6B4af5vW56RpJg</td>\n",
       "      <td>4</td>\n",
       "      <td>2</td>\n",
       "      <td>5.000000</td>\n",
       "      <td>1</td>\n",
       "      <td>59</td>\n",
       "      <td>5</td>\n",
       "    </tr>\n",
       "    <tr>\n",
       "      <th>5</th>\n",
       "      <td>YssP-_6iP0SLBsqUQGs6rQ</td>\n",
       "      <td>gtJJBaQwTwE45NnNF0coVA</td>\n",
       "      <td>4</td>\n",
       "      <td>64</td>\n",
       "      <td>4.333333</td>\n",
       "      <td>3</td>\n",
       "      <td>59</td>\n",
       "      <td>5</td>\n",
       "    </tr>\n",
       "    <tr>\n",
       "      <th>6</th>\n",
       "      <td>YssP-_6iP0SLBsqUQGs6rQ</td>\n",
       "      <td>vFgVosI6MUPX8Y23hmuMXw</td>\n",
       "      <td>4</td>\n",
       "      <td>5</td>\n",
       "      <td>5.000000</td>\n",
       "      <td>1</td>\n",
       "      <td>59</td>\n",
       "      <td>5</td>\n",
       "    </tr>\n",
       "    <tr>\n",
       "      <th>7</th>\n",
       "      <td>YssP-_6iP0SLBsqUQGs6rQ</td>\n",
       "      <td>RxEegiMllenlyhYgJqsTSQ</td>\n",
       "      <td>4</td>\n",
       "      <td>16</td>\n",
       "      <td>5.000000</td>\n",
       "      <td>1</td>\n",
       "      <td>59</td>\n",
       "      <td>4</td>\n",
       "    </tr>\n",
       "    <tr>\n",
       "      <th>8</th>\n",
       "      <td>YssP-_6iP0SLBsqUQGs6rQ</td>\n",
       "      <td>iTmWHtltCtk0Gm55AOxrUA</td>\n",
       "      <td>4</td>\n",
       "      <td>93</td>\n",
       "      <td>5.000000</td>\n",
       "      <td>2</td>\n",
       "      <td>59</td>\n",
       "      <td>4</td>\n",
       "    </tr>\n",
       "    <tr>\n",
       "      <th>9</th>\n",
       "      <td>YssP-_6iP0SLBsqUQGs6rQ</td>\n",
       "      <td>sPQ10u9ZsrCVCKhQylFxgQ</td>\n",
       "      <td>4</td>\n",
       "      <td>89</td>\n",
       "      <td>4.428571</td>\n",
       "      <td>4</td>\n",
       "      <td>59</td>\n",
       "      <td>2</td>\n",
       "    </tr>\n",
       "    <tr>\n",
       "      <th>10</th>\n",
       "      <td>YssP-_6iP0SLBsqUQGs6rQ</td>\n",
       "      <td>gwnVSev8aNLvMArs3WTfFw</td>\n",
       "      <td>4</td>\n",
       "      <td>285</td>\n",
       "      <td>4.000000</td>\n",
       "      <td>3</td>\n",
       "      <td>59</td>\n",
       "      <td>5</td>\n",
       "    </tr>\n",
       "    <tr>\n",
       "      <th>11</th>\n",
       "      <td>YssP-_6iP0SLBsqUQGs6rQ</td>\n",
       "      <td>gwnVSev8aNLvMArs3WTfFw</td>\n",
       "      <td>4</td>\n",
       "      <td>285</td>\n",
       "      <td>4.000000</td>\n",
       "      <td>3</td>\n",
       "      <td>59</td>\n",
       "      <td>4</td>\n",
       "    </tr>\n",
       "    <tr>\n",
       "      <th>12</th>\n",
       "      <td>YssP-_6iP0SLBsqUQGs6rQ</td>\n",
       "      <td>11Ydte1VfE85UHK24d4QRQ</td>\n",
       "      <td>4</td>\n",
       "      <td>41</td>\n",
       "      <td>4.000000</td>\n",
       "      <td>4</td>\n",
       "      <td>59</td>\n",
       "      <td>4</td>\n",
       "    </tr>\n",
       "    <tr>\n",
       "      <th>13</th>\n",
       "      <td>YssP-_6iP0SLBsqUQGs6rQ</td>\n",
       "      <td>sApvvvnEp4Z-4do3a1pDgg</td>\n",
       "      <td>4</td>\n",
       "      <td>29</td>\n",
       "      <td>5.000000</td>\n",
       "      <td>1</td>\n",
       "      <td>59</td>\n",
       "      <td>4</td>\n",
       "    </tr>\n",
       "    <tr>\n",
       "      <th>14</th>\n",
       "      <td>YssP-_6iP0SLBsqUQGs6rQ</td>\n",
       "      <td>cEN-lL4MQfmUYLJ4K1tU6g</td>\n",
       "      <td>4</td>\n",
       "      <td>14</td>\n",
       "      <td>4.000000</td>\n",
       "      <td>3</td>\n",
       "      <td>59</td>\n",
       "      <td>4</td>\n",
       "    </tr>\n",
       "    <tr>\n",
       "      <th>15</th>\n",
       "      <td>YssP-_6iP0SLBsqUQGs6rQ</td>\n",
       "      <td>wNtyBJa_qaRYUew_TWplgw</td>\n",
       "      <td>4</td>\n",
       "      <td>16</td>\n",
       "      <td>3.000000</td>\n",
       "      <td>1</td>\n",
       "      <td>59</td>\n",
       "      <td>3</td>\n",
       "    </tr>\n",
       "    <tr>\n",
       "      <th>16</th>\n",
       "      <td>YssP-_6iP0SLBsqUQGs6rQ</td>\n",
       "      <td>UFr-WCtnNbX8O3sI7h4qeQ</td>\n",
       "      <td>4</td>\n",
       "      <td>174</td>\n",
       "      <td>4.571429</td>\n",
       "      <td>4</td>\n",
       "      <td>59</td>\n",
       "      <td>5</td>\n",
       "    </tr>\n",
       "    <tr>\n",
       "      <th>17</th>\n",
       "      <td>YssP-_6iP0SLBsqUQGs6rQ</td>\n",
       "      <td>-0itF0VWVBe3k2AdfUReGA</td>\n",
       "      <td>4</td>\n",
       "      <td>44</td>\n",
       "      <td>3.000000</td>\n",
       "      <td>2</td>\n",
       "      <td>59</td>\n",
       "      <td>3</td>\n",
       "    </tr>\n",
       "    <tr>\n",
       "      <th>18</th>\n",
       "      <td>YssP-_6iP0SLBsqUQGs6rQ</td>\n",
       "      <td>rxYocLcwFsrHYOYwtHSv8g</td>\n",
       "      <td>4</td>\n",
       "      <td>9</td>\n",
       "      <td>5.000000</td>\n",
       "      <td>1</td>\n",
       "      <td>59</td>\n",
       "      <td>5</td>\n",
       "    </tr>\n",
       "    <tr>\n",
       "      <th>19</th>\n",
       "      <td>YssP-_6iP0SLBsqUQGs6rQ</td>\n",
       "      <td>VhvImjVs2_XE1_ig-3O-hw</td>\n",
       "      <td>4</td>\n",
       "      <td>11</td>\n",
       "      <td>5.000000</td>\n",
       "      <td>1</td>\n",
       "      <td>59</td>\n",
       "      <td>3</td>\n",
       "    </tr>\n",
       "    <tr>\n",
       "      <th>20</th>\n",
       "      <td>YssP-_6iP0SLBsqUQGs6rQ</td>\n",
       "      <td>tPeZJwKmXBj6EdxB_yfPOw</td>\n",
       "      <td>4</td>\n",
       "      <td>6</td>\n",
       "      <td>5.000000</td>\n",
       "      <td>1</td>\n",
       "      <td>59</td>\n",
       "      <td>2</td>\n",
       "    </tr>\n",
       "    <tr>\n",
       "      <th>21</th>\n",
       "      <td>YssP-_6iP0SLBsqUQGs6rQ</td>\n",
       "      <td>8wqDdfLlnT0M4PdWFh7eOg</td>\n",
       "      <td>4</td>\n",
       "      <td>5</td>\n",
       "      <td>5.000000</td>\n",
       "      <td>1</td>\n",
       "      <td>59</td>\n",
       "      <td>5</td>\n",
       "    </tr>\n",
       "    <tr>\n",
       "      <th>22</th>\n",
       "      <td>YssP-_6iP0SLBsqUQGs6rQ</td>\n",
       "      <td>wPjdB0viLu-i7YKGG3LJqA</td>\n",
       "      <td>4</td>\n",
       "      <td>99</td>\n",
       "      <td>4.000000</td>\n",
       "      <td>1</td>\n",
       "      <td>59</td>\n",
       "      <td>4</td>\n",
       "    </tr>\n",
       "    <tr>\n",
       "      <th>23</th>\n",
       "      <td>YssP-_6iP0SLBsqUQGs6rQ</td>\n",
       "      <td>gsRCdfdu6XJDG7GcTDY0wQ</td>\n",
       "      <td>4</td>\n",
       "      <td>12</td>\n",
       "      <td>5.000000</td>\n",
       "      <td>1</td>\n",
       "      <td>59</td>\n",
       "      <td>5</td>\n",
       "    </tr>\n",
       "    <tr>\n",
       "      <th>24</th>\n",
       "      <td>YssP-_6iP0SLBsqUQGs6rQ</td>\n",
       "      <td>aFlaO_MLb6YKk4oU8zmVNw</td>\n",
       "      <td>4</td>\n",
       "      <td>26</td>\n",
       "      <td>4.000000</td>\n",
       "      <td>1</td>\n",
       "      <td>59</td>\n",
       "      <td>4</td>\n",
       "    </tr>\n",
       "    <tr>\n",
       "      <th>25</th>\n",
       "      <td>YssP-_6iP0SLBsqUQGs6rQ</td>\n",
       "      <td>FTfa_WW0JdI7TeK-xPkReg</td>\n",
       "      <td>4</td>\n",
       "      <td>7</td>\n",
       "      <td>5.000000</td>\n",
       "      <td>1</td>\n",
       "      <td>59</td>\n",
       "      <td>4</td>\n",
       "    </tr>\n",
       "    <tr>\n",
       "      <th>26</th>\n",
       "      <td>YssP-_6iP0SLBsqUQGs6rQ</td>\n",
       "      <td>idmLNdfVLgA5Ku1q5pQSrw</td>\n",
       "      <td>4</td>\n",
       "      <td>1</td>\n",
       "      <td>5.000000</td>\n",
       "      <td>1</td>\n",
       "      <td>59</td>\n",
       "      <td>4</td>\n",
       "    </tr>\n",
       "    <tr>\n",
       "      <th>27</th>\n",
       "      <td>YssP-_6iP0SLBsqUQGs6rQ</td>\n",
       "      <td>pdxgawR1KIucNrBQICi37g</td>\n",
       "      <td>4</td>\n",
       "      <td>32</td>\n",
       "      <td>5.000000</td>\n",
       "      <td>2</td>\n",
       "      <td>59</td>\n",
       "      <td>4</td>\n",
       "    </tr>\n",
       "    <tr>\n",
       "      <th>28</th>\n",
       "      <td>IxQ1ATP_Wg_QujO9nywzcQ</td>\n",
       "      <td>I_47G-R2_egp7ME5u_ltew</td>\n",
       "      <td>4</td>\n",
       "      <td>6</td>\n",
       "      <td>2.500000</td>\n",
       "      <td>1</td>\n",
       "      <td>90</td>\n",
       "      <td>4</td>\n",
       "    </tr>\n",
       "    <tr>\n",
       "      <th>29</th>\n",
       "      <td>IxQ1ATP_Wg_QujO9nywzcQ</td>\n",
       "      <td>trYPAmnPz6ChpIgx0jGbyg</td>\n",
       "      <td>4</td>\n",
       "      <td>4</td>\n",
       "      <td>2.500000</td>\n",
       "      <td>1</td>\n",
       "      <td>90</td>\n",
       "      <td>5</td>\n",
       "    </tr>\n",
       "    <tr>\n",
       "      <th>...</th>\n",
       "      <td>...</td>\n",
       "      <td>...</td>\n",
       "      <td>...</td>\n",
       "      <td>...</td>\n",
       "      <td>...</td>\n",
       "      <td>...</td>\n",
       "      <td>...</td>\n",
       "      <td>...</td>\n",
       "    </tr>\n",
       "    <tr>\n",
       "      <th>40004</th>\n",
       "      <td>qNOSk0X-zJYBPTt-5NstzQ</td>\n",
       "      <td>kSVYpNWA19wUplbdi0U0Uw</td>\n",
       "      <td>4</td>\n",
       "      <td>641</td>\n",
       "      <td>3.000000</td>\n",
       "      <td>1</td>\n",
       "      <td>7</td>\n",
       "      <td>4</td>\n",
       "    </tr>\n",
       "    <tr>\n",
       "      <th>40005</th>\n",
       "      <td>qNOSk0X-zJYBPTt-5NstzQ</td>\n",
       "      <td>ZC8GLSFz-LIHxYYGBaZIig</td>\n",
       "      <td>4</td>\n",
       "      <td>160</td>\n",
       "      <td>4.000000</td>\n",
       "      <td>2</td>\n",
       "      <td>7</td>\n",
       "      <td>3</td>\n",
       "    </tr>\n",
       "    <tr>\n",
       "      <th>40006</th>\n",
       "      <td>qNOSk0X-zJYBPTt-5NstzQ</td>\n",
       "      <td>9LwyHtKt5iRqlcFH-897aQ</td>\n",
       "      <td>4</td>\n",
       "      <td>200</td>\n",
       "      <td>3.000000</td>\n",
       "      <td>1</td>\n",
       "      <td>7</td>\n",
       "      <td>4</td>\n",
       "    </tr>\n",
       "    <tr>\n",
       "      <th>40007</th>\n",
       "      <td>QnTdvqfbbX0d0LjV_y_6_w</td>\n",
       "      <td>ePxzwqgNLQnYoObzLYhYvg</td>\n",
       "      <td>4</td>\n",
       "      <td>626</td>\n",
       "      <td>5.000000</td>\n",
       "      <td>1</td>\n",
       "      <td>10</td>\n",
       "      <td>5</td>\n",
       "    </tr>\n",
       "    <tr>\n",
       "      <th>40008</th>\n",
       "      <td>QnTdvqfbbX0d0LjV_y_6_w</td>\n",
       "      <td>GhFrTrE3xGzb4jO5ReSloQ</td>\n",
       "      <td>4</td>\n",
       "      <td>145</td>\n",
       "      <td>5.000000</td>\n",
       "      <td>1</td>\n",
       "      <td>10</td>\n",
       "      <td>5</td>\n",
       "    </tr>\n",
       "    <tr>\n",
       "      <th>40009</th>\n",
       "      <td>B3eO8HjT8APDNLW6PSx5lA</td>\n",
       "      <td>Mx-vxv_V-SQCe76w4RmUfA</td>\n",
       "      <td>4</td>\n",
       "      <td>874</td>\n",
       "      <td>4.000000</td>\n",
       "      <td>1</td>\n",
       "      <td>15</td>\n",
       "      <td>5</td>\n",
       "    </tr>\n",
       "    <tr>\n",
       "      <th>40010</th>\n",
       "      <td>B3eO8HjT8APDNLW6PSx5lA</td>\n",
       "      <td>fRbqoHAkgC5MeW3x15mezA</td>\n",
       "      <td>4</td>\n",
       "      <td>107</td>\n",
       "      <td>5.000000</td>\n",
       "      <td>1</td>\n",
       "      <td>15</td>\n",
       "      <td>4</td>\n",
       "    </tr>\n",
       "    <tr>\n",
       "      <th>40011</th>\n",
       "      <td>CJlD7-4QHoK29bE5nH5aWA</td>\n",
       "      <td>Mx-vxv_V-SQCe76w4RmUfA</td>\n",
       "      <td>4</td>\n",
       "      <td>874</td>\n",
       "      <td>2.000000</td>\n",
       "      <td>1</td>\n",
       "      <td>5</td>\n",
       "      <td>4</td>\n",
       "    </tr>\n",
       "    <tr>\n",
       "      <th>40012</th>\n",
       "      <td>CJlD7-4QHoK29bE5nH5aWA</td>\n",
       "      <td>Qw_d8QV6_B6Ztre-X8L8cA</td>\n",
       "      <td>4</td>\n",
       "      <td>46</td>\n",
       "      <td>4.000000</td>\n",
       "      <td>1</td>\n",
       "      <td>5</td>\n",
       "      <td>2</td>\n",
       "    </tr>\n",
       "    <tr>\n",
       "      <th>40013</th>\n",
       "      <td>UvaMzHlR0kI1Up3vvbrszQ</td>\n",
       "      <td>ue7ak2JMORJXyor0MmW3Jw</td>\n",
       "      <td>4</td>\n",
       "      <td>80</td>\n",
       "      <td>5.000000</td>\n",
       "      <td>1</td>\n",
       "      <td>9</td>\n",
       "      <td>3</td>\n",
       "    </tr>\n",
       "    <tr>\n",
       "      <th>40014</th>\n",
       "      <td>UvaMzHlR0kI1Up3vvbrszQ</td>\n",
       "      <td>9gWfA0MHsMoFedeizZre_g</td>\n",
       "      <td>4</td>\n",
       "      <td>85</td>\n",
       "      <td>3.000000</td>\n",
       "      <td>1</td>\n",
       "      <td>9</td>\n",
       "      <td>5</td>\n",
       "    </tr>\n",
       "    <tr>\n",
       "      <th>40015</th>\n",
       "      <td>U4NmHKsVwbnM9lOXaGXGqw</td>\n",
       "      <td>ehV2bbIj5w-Y7aOCmsDZ0w</td>\n",
       "      <td>4</td>\n",
       "      <td>246</td>\n",
       "      <td>5.000000</td>\n",
       "      <td>1</td>\n",
       "      <td>18</td>\n",
       "      <td>4</td>\n",
       "    </tr>\n",
       "    <tr>\n",
       "      <th>40016</th>\n",
       "      <td>U4NmHKsVwbnM9lOXaGXGqw</td>\n",
       "      <td>AgtFQVxo-PGQVsOdY6Nvdg</td>\n",
       "      <td>4</td>\n",
       "      <td>51</td>\n",
       "      <td>4.500000</td>\n",
       "      <td>2</td>\n",
       "      <td>18</td>\n",
       "      <td>5</td>\n",
       "    </tr>\n",
       "    <tr>\n",
       "      <th>40017</th>\n",
       "      <td>U4NmHKsVwbnM9lOXaGXGqw</td>\n",
       "      <td>gL_ZCYyJCnxzhdZzgcDTMg</td>\n",
       "      <td>4</td>\n",
       "      <td>215</td>\n",
       "      <td>4.000000</td>\n",
       "      <td>1</td>\n",
       "      <td>18</td>\n",
       "      <td>4</td>\n",
       "    </tr>\n",
       "    <tr>\n",
       "      <th>40018</th>\n",
       "      <td>U4NmHKsVwbnM9lOXaGXGqw</td>\n",
       "      <td>8OSYDtWlx_knN22HR9GjoA</td>\n",
       "      <td>4</td>\n",
       "      <td>105</td>\n",
       "      <td>5.000000</td>\n",
       "      <td>1</td>\n",
       "      <td>18</td>\n",
       "      <td>5</td>\n",
       "    </tr>\n",
       "    <tr>\n",
       "      <th>40019</th>\n",
       "      <td>U4NmHKsVwbnM9lOXaGXGqw</td>\n",
       "      <td>7oJa9gaIzIqdLLXdyNpGNQ</td>\n",
       "      <td>4</td>\n",
       "      <td>440</td>\n",
       "      <td>4.000000</td>\n",
       "      <td>1</td>\n",
       "      <td>18</td>\n",
       "      <td>4</td>\n",
       "    </tr>\n",
       "    <tr>\n",
       "      <th>40020</th>\n",
       "      <td>t02b8iqce8ZU4y6tpBQXSg</td>\n",
       "      <td>EhcZKrQJIS226xdm_qJ71w</td>\n",
       "      <td>4</td>\n",
       "      <td>383</td>\n",
       "      <td>5.000000</td>\n",
       "      <td>1</td>\n",
       "      <td>9</td>\n",
       "      <td>3</td>\n",
       "    </tr>\n",
       "    <tr>\n",
       "      <th>40021</th>\n",
       "      <td>t02b8iqce8ZU4y6tpBQXSg</td>\n",
       "      <td>3zNj0Sv5Cx-pnhX3LdjxAw</td>\n",
       "      <td>4</td>\n",
       "      <td>440</td>\n",
       "      <td>3.000000</td>\n",
       "      <td>1</td>\n",
       "      <td>9</td>\n",
       "      <td>5</td>\n",
       "    </tr>\n",
       "    <tr>\n",
       "      <th>40022</th>\n",
       "      <td>os3J4GBZ-KcMQ334vokDkQ</td>\n",
       "      <td>TgqfghPMtVj4n7tWxh2mmA</td>\n",
       "      <td>4</td>\n",
       "      <td>116</td>\n",
       "      <td>4.000000</td>\n",
       "      <td>1</td>\n",
       "      <td>5</td>\n",
       "      <td>1</td>\n",
       "    </tr>\n",
       "    <tr>\n",
       "      <th>40023</th>\n",
       "      <td>os3J4GBZ-KcMQ334vokDkQ</td>\n",
       "      <td>pJZgBLp3lwWElM09_QJXTA</td>\n",
       "      <td>4</td>\n",
       "      <td>89</td>\n",
       "      <td>3.000000</td>\n",
       "      <td>2</td>\n",
       "      <td>5</td>\n",
       "      <td>4</td>\n",
       "    </tr>\n",
       "    <tr>\n",
       "      <th>40024</th>\n",
       "      <td>os3J4GBZ-KcMQ334vokDkQ</td>\n",
       "      <td>9iaB208lCRRVOLmCuGBdDA</td>\n",
       "      <td>4</td>\n",
       "      <td>8</td>\n",
       "      <td>4.000000</td>\n",
       "      <td>1</td>\n",
       "      <td>5</td>\n",
       "      <td>5</td>\n",
       "    </tr>\n",
       "    <tr>\n",
       "      <th>40025</th>\n",
       "      <td>u8eDm6srUIpPuTS7Qt6xHw</td>\n",
       "      <td>eOs8sbuNqeQpt15wcYvKMw</td>\n",
       "      <td>4</td>\n",
       "      <td>170</td>\n",
       "      <td>5.000000</td>\n",
       "      <td>1</td>\n",
       "      <td>14</td>\n",
       "      <td>4</td>\n",
       "    </tr>\n",
       "    <tr>\n",
       "      <th>40026</th>\n",
       "      <td>u8eDm6srUIpPuTS7Qt6xHw</td>\n",
       "      <td>MR1X9tO3YsYfsF9lY4nOQQ</td>\n",
       "      <td>4</td>\n",
       "      <td>68</td>\n",
       "      <td>5.000000</td>\n",
       "      <td>1</td>\n",
       "      <td>14</td>\n",
       "      <td>5</td>\n",
       "    </tr>\n",
       "    <tr>\n",
       "      <th>40027</th>\n",
       "      <td>u8eDm6srUIpPuTS7Qt6xHw</td>\n",
       "      <td>Dpt6cl8l7TqfOy3M1V_lyw</td>\n",
       "      <td>4</td>\n",
       "      <td>3</td>\n",
       "      <td>4.000000</td>\n",
       "      <td>1</td>\n",
       "      <td>14</td>\n",
       "      <td>4</td>\n",
       "    </tr>\n",
       "    <tr>\n",
       "      <th>40028</th>\n",
       "      <td>u8eDm6srUIpPuTS7Qt6xHw</td>\n",
       "      <td>50QRvXLzl6oeMdjWOtHbYg</td>\n",
       "      <td>4</td>\n",
       "      <td>32</td>\n",
       "      <td>4.500000</td>\n",
       "      <td>2</td>\n",
       "      <td>14</td>\n",
       "      <td>5</td>\n",
       "    </tr>\n",
       "    <tr>\n",
       "      <th>40029</th>\n",
       "      <td>u8eDm6srUIpPuTS7Qt6xHw</td>\n",
       "      <td>IcOdPZESr-HFLjq-nKDq5Q</td>\n",
       "      <td>4</td>\n",
       "      <td>4</td>\n",
       "      <td>4.000000</td>\n",
       "      <td>1</td>\n",
       "      <td>14</td>\n",
       "      <td>4</td>\n",
       "    </tr>\n",
       "    <tr>\n",
       "      <th>40030</th>\n",
       "      <td>R0-v-FpOua6lZQV0yGw7rg</td>\n",
       "      <td>kxkblYrTR0wkZ9La5M2WvA</td>\n",
       "      <td>4</td>\n",
       "      <td>6</td>\n",
       "      <td>5.000000</td>\n",
       "      <td>1</td>\n",
       "      <td>13</td>\n",
       "      <td>5</td>\n",
       "    </tr>\n",
       "    <tr>\n",
       "      <th>40031</th>\n",
       "      <td>R0-v-FpOua6lZQV0yGw7rg</td>\n",
       "      <td>OMuVuni4JvpbgRFeLuhQXg</td>\n",
       "      <td>4</td>\n",
       "      <td>5</td>\n",
       "      <td>5.000000</td>\n",
       "      <td>1</td>\n",
       "      <td>13</td>\n",
       "      <td>5</td>\n",
       "    </tr>\n",
       "    <tr>\n",
       "      <th>40032</th>\n",
       "      <td>R0-v-FpOua6lZQV0yGw7rg</td>\n",
       "      <td>ZqWQK3AlGayWz_5EFEkPxQ</td>\n",
       "      <td>4</td>\n",
       "      <td>6</td>\n",
       "      <td>5.000000</td>\n",
       "      <td>1</td>\n",
       "      <td>13</td>\n",
       "      <td>5</td>\n",
       "    </tr>\n",
       "    <tr>\n",
       "      <th>40033</th>\n",
       "      <td>R0-v-FpOua6lZQV0yGw7rg</td>\n",
       "      <td>KtMY3Rdgsu-rmKFWClRD_w</td>\n",
       "      <td>4</td>\n",
       "      <td>17</td>\n",
       "      <td>5.000000</td>\n",
       "      <td>1</td>\n",
       "      <td>13</td>\n",
       "      <td>5</td>\n",
       "    </tr>\n",
       "  </tbody>\n",
       "</table>\n",
       "<p>40034 rows × 8 columns</p>\n",
       "</div>"
      ],
      "text/plain": [
       "                  Business_id                 User_id  business_rating  \\\n",
       "0      YssP-_6iP0SLBsqUQGs6rQ  nEYPahVwXGD2Pjvgkm7QqQ                4   \n",
       "1      YssP-_6iP0SLBsqUQGs6rQ  GYNfjDbSlpdRK2qC8RqatA                4   \n",
       "2      YssP-_6iP0SLBsqUQGs6rQ  r_96n9O0jNzbNCZDkSB0EQ                4   \n",
       "3      YssP-_6iP0SLBsqUQGs6rQ  Enzdhh-rV5JgC4lgg0IdFw                4   \n",
       "4      YssP-_6iP0SLBsqUQGs6rQ  ytgLwKzD6B4af5vW56RpJg                4   \n",
       "5      YssP-_6iP0SLBsqUQGs6rQ  gtJJBaQwTwE45NnNF0coVA                4   \n",
       "6      YssP-_6iP0SLBsqUQGs6rQ  vFgVosI6MUPX8Y23hmuMXw                4   \n",
       "7      YssP-_6iP0SLBsqUQGs6rQ  RxEegiMllenlyhYgJqsTSQ                4   \n",
       "8      YssP-_6iP0SLBsqUQGs6rQ  iTmWHtltCtk0Gm55AOxrUA                4   \n",
       "9      YssP-_6iP0SLBsqUQGs6rQ  sPQ10u9ZsrCVCKhQylFxgQ                4   \n",
       "10     YssP-_6iP0SLBsqUQGs6rQ  gwnVSev8aNLvMArs3WTfFw                4   \n",
       "11     YssP-_6iP0SLBsqUQGs6rQ  gwnVSev8aNLvMArs3WTfFw                4   \n",
       "12     YssP-_6iP0SLBsqUQGs6rQ  11Ydte1VfE85UHK24d4QRQ                4   \n",
       "13     YssP-_6iP0SLBsqUQGs6rQ  sApvvvnEp4Z-4do3a1pDgg                4   \n",
       "14     YssP-_6iP0SLBsqUQGs6rQ  cEN-lL4MQfmUYLJ4K1tU6g                4   \n",
       "15     YssP-_6iP0SLBsqUQGs6rQ  wNtyBJa_qaRYUew_TWplgw                4   \n",
       "16     YssP-_6iP0SLBsqUQGs6rQ  UFr-WCtnNbX8O3sI7h4qeQ                4   \n",
       "17     YssP-_6iP0SLBsqUQGs6rQ  -0itF0VWVBe3k2AdfUReGA                4   \n",
       "18     YssP-_6iP0SLBsqUQGs6rQ  rxYocLcwFsrHYOYwtHSv8g                4   \n",
       "19     YssP-_6iP0SLBsqUQGs6rQ  VhvImjVs2_XE1_ig-3O-hw                4   \n",
       "20     YssP-_6iP0SLBsqUQGs6rQ  tPeZJwKmXBj6EdxB_yfPOw                4   \n",
       "21     YssP-_6iP0SLBsqUQGs6rQ  8wqDdfLlnT0M4PdWFh7eOg                4   \n",
       "22     YssP-_6iP0SLBsqUQGs6rQ  wPjdB0viLu-i7YKGG3LJqA                4   \n",
       "23     YssP-_6iP0SLBsqUQGs6rQ  gsRCdfdu6XJDG7GcTDY0wQ                4   \n",
       "24     YssP-_6iP0SLBsqUQGs6rQ  aFlaO_MLb6YKk4oU8zmVNw                4   \n",
       "25     YssP-_6iP0SLBsqUQGs6rQ  FTfa_WW0JdI7TeK-xPkReg                4   \n",
       "26     YssP-_6iP0SLBsqUQGs6rQ  idmLNdfVLgA5Ku1q5pQSrw                4   \n",
       "27     YssP-_6iP0SLBsqUQGs6rQ  pdxgawR1KIucNrBQICi37g                4   \n",
       "28     IxQ1ATP_Wg_QujO9nywzcQ  I_47G-R2_egp7ME5u_ltew                4   \n",
       "29     IxQ1ATP_Wg_QujO9nywzcQ  trYPAmnPz6ChpIgx0jGbyg                4   \n",
       "...                       ...                     ...              ...   \n",
       "40004  qNOSk0X-zJYBPTt-5NstzQ  kSVYpNWA19wUplbdi0U0Uw                4   \n",
       "40005  qNOSk0X-zJYBPTt-5NstzQ  ZC8GLSFz-LIHxYYGBaZIig                4   \n",
       "40006  qNOSk0X-zJYBPTt-5NstzQ  9LwyHtKt5iRqlcFH-897aQ                4   \n",
       "40007  QnTdvqfbbX0d0LjV_y_6_w  ePxzwqgNLQnYoObzLYhYvg                4   \n",
       "40008  QnTdvqfbbX0d0LjV_y_6_w  GhFrTrE3xGzb4jO5ReSloQ                4   \n",
       "40009  B3eO8HjT8APDNLW6PSx5lA  Mx-vxv_V-SQCe76w4RmUfA                4   \n",
       "40010  B3eO8HjT8APDNLW6PSx5lA  fRbqoHAkgC5MeW3x15mezA                4   \n",
       "40011  CJlD7-4QHoK29bE5nH5aWA  Mx-vxv_V-SQCe76w4RmUfA                4   \n",
       "40012  CJlD7-4QHoK29bE5nH5aWA  Qw_d8QV6_B6Ztre-X8L8cA                4   \n",
       "40013  UvaMzHlR0kI1Up3vvbrszQ  ue7ak2JMORJXyor0MmW3Jw                4   \n",
       "40014  UvaMzHlR0kI1Up3vvbrszQ  9gWfA0MHsMoFedeizZre_g                4   \n",
       "40015  U4NmHKsVwbnM9lOXaGXGqw  ehV2bbIj5w-Y7aOCmsDZ0w                4   \n",
       "40016  U4NmHKsVwbnM9lOXaGXGqw  AgtFQVxo-PGQVsOdY6Nvdg                4   \n",
       "40017  U4NmHKsVwbnM9lOXaGXGqw  gL_ZCYyJCnxzhdZzgcDTMg                4   \n",
       "40018  U4NmHKsVwbnM9lOXaGXGqw  8OSYDtWlx_knN22HR9GjoA                4   \n",
       "40019  U4NmHKsVwbnM9lOXaGXGqw  7oJa9gaIzIqdLLXdyNpGNQ                4   \n",
       "40020  t02b8iqce8ZU4y6tpBQXSg  EhcZKrQJIS226xdm_qJ71w                4   \n",
       "40021  t02b8iqce8ZU4y6tpBQXSg  3zNj0Sv5Cx-pnhX3LdjxAw                4   \n",
       "40022  os3J4GBZ-KcMQ334vokDkQ  TgqfghPMtVj4n7tWxh2mmA                4   \n",
       "40023  os3J4GBZ-KcMQ334vokDkQ  pJZgBLp3lwWElM09_QJXTA                4   \n",
       "40024  os3J4GBZ-KcMQ334vokDkQ  9iaB208lCRRVOLmCuGBdDA                4   \n",
       "40025  u8eDm6srUIpPuTS7Qt6xHw  eOs8sbuNqeQpt15wcYvKMw                4   \n",
       "40026  u8eDm6srUIpPuTS7Qt6xHw  MR1X9tO3YsYfsF9lY4nOQQ                4   \n",
       "40027  u8eDm6srUIpPuTS7Qt6xHw  Dpt6cl8l7TqfOy3M1V_lyw                4   \n",
       "40028  u8eDm6srUIpPuTS7Qt6xHw  50QRvXLzl6oeMdjWOtHbYg                4   \n",
       "40029  u8eDm6srUIpPuTS7Qt6xHw  IcOdPZESr-HFLjq-nKDq5Q                4   \n",
       "40030  R0-v-FpOua6lZQV0yGw7rg  kxkblYrTR0wkZ9La5M2WvA                4   \n",
       "40031  R0-v-FpOua6lZQV0yGw7rg  OMuVuni4JvpbgRFeLuhQXg                4   \n",
       "40032  R0-v-FpOua6lZQV0yGw7rg  ZqWQK3AlGayWz_5EFEkPxQ                4   \n",
       "40033  R0-v-FpOua6lZQV0yGw7rg  KtMY3Rdgsu-rmKFWClRD_w                4   \n",
       "\n",
       "       friends  friends_avg_rating  friends_who_rated  no_of_reviewers  \\\n",
       "0         1444            4.000000                 22               59   \n",
       "1           45            4.000000                  3               59   \n",
       "2            6            4.000000                  1               59   \n",
       "3          149            3.333333                  3               59   \n",
       "4            2            5.000000                  1               59   \n",
       "5           64            4.333333                  3               59   \n",
       "6            5            5.000000                  1               59   \n",
       "7           16            5.000000                  1               59   \n",
       "8           93            5.000000                  2               59   \n",
       "9           89            4.428571                  4               59   \n",
       "10         285            4.000000                  3               59   \n",
       "11         285            4.000000                  3               59   \n",
       "12          41            4.000000                  4               59   \n",
       "13          29            5.000000                  1               59   \n",
       "14          14            4.000000                  3               59   \n",
       "15          16            3.000000                  1               59   \n",
       "16         174            4.571429                  4               59   \n",
       "17          44            3.000000                  2               59   \n",
       "18           9            5.000000                  1               59   \n",
       "19          11            5.000000                  1               59   \n",
       "20           6            5.000000                  1               59   \n",
       "21           5            5.000000                  1               59   \n",
       "22          99            4.000000                  1               59   \n",
       "23          12            5.000000                  1               59   \n",
       "24          26            4.000000                  1               59   \n",
       "25           7            5.000000                  1               59   \n",
       "26           1            5.000000                  1               59   \n",
       "27          32            5.000000                  2               59   \n",
       "28           6            2.500000                  1               90   \n",
       "29           4            2.500000                  1               90   \n",
       "...        ...                 ...                ...              ...   \n",
       "40004      641            3.000000                  1                7   \n",
       "40005      160            4.000000                  2                7   \n",
       "40006      200            3.000000                  1                7   \n",
       "40007      626            5.000000                  1               10   \n",
       "40008      145            5.000000                  1               10   \n",
       "40009      874            4.000000                  1               15   \n",
       "40010      107            5.000000                  1               15   \n",
       "40011      874            2.000000                  1                5   \n",
       "40012       46            4.000000                  1                5   \n",
       "40013       80            5.000000                  1                9   \n",
       "40014       85            3.000000                  1                9   \n",
       "40015      246            5.000000                  1               18   \n",
       "40016       51            4.500000                  2               18   \n",
       "40017      215            4.000000                  1               18   \n",
       "40018      105            5.000000                  1               18   \n",
       "40019      440            4.000000                  1               18   \n",
       "40020      383            5.000000                  1                9   \n",
       "40021      440            3.000000                  1                9   \n",
       "40022      116            4.000000                  1                5   \n",
       "40023       89            3.000000                  2                5   \n",
       "40024        8            4.000000                  1                5   \n",
       "40025      170            5.000000                  1               14   \n",
       "40026       68            5.000000                  1               14   \n",
       "40027        3            4.000000                  1               14   \n",
       "40028       32            4.500000                  2               14   \n",
       "40029        4            4.000000                  1               14   \n",
       "40030        6            5.000000                  1               13   \n",
       "40031        5            5.000000                  1               13   \n",
       "40032        6            5.000000                  1               13   \n",
       "40033       17            5.000000                  1               13   \n",
       "\n",
       "       user_rating  \n",
       "0                5  \n",
       "1                1  \n",
       "2                5  \n",
       "3                3  \n",
       "4                5  \n",
       "5                5  \n",
       "6                5  \n",
       "7                4  \n",
       "8                4  \n",
       "9                2  \n",
       "10               5  \n",
       "11               4  \n",
       "12               4  \n",
       "13               4  \n",
       "14               4  \n",
       "15               3  \n",
       "16               5  \n",
       "17               3  \n",
       "18               5  \n",
       "19               3  \n",
       "20               2  \n",
       "21               5  \n",
       "22               4  \n",
       "23               5  \n",
       "24               4  \n",
       "25               4  \n",
       "26               4  \n",
       "27               4  \n",
       "28               4  \n",
       "29               5  \n",
       "...            ...  \n",
       "40004            4  \n",
       "40005            3  \n",
       "40006            4  \n",
       "40007            5  \n",
       "40008            5  \n",
       "40009            5  \n",
       "40010            4  \n",
       "40011            4  \n",
       "40012            2  \n",
       "40013            3  \n",
       "40014            5  \n",
       "40015            4  \n",
       "40016            5  \n",
       "40017            4  \n",
       "40018            5  \n",
       "40019            4  \n",
       "40020            3  \n",
       "40021            5  \n",
       "40022            1  \n",
       "40023            4  \n",
       "40024            5  \n",
       "40025            4  \n",
       "40026            5  \n",
       "40027            4  \n",
       "40028            5  \n",
       "40029            4  \n",
       "40030            5  \n",
       "40031            5  \n",
       "40032            5  \n",
       "40033            5  \n",
       "\n",
       "[40034 rows x 8 columns]"
      ]
     },
     "execution_count": 122,
     "metadata": {},
     "output_type": "execute_result"
    }
   ],
   "source": [
    "final_df_no_duplicates_4.reset_index(drop=True)"
   ]
  },
  {
   "cell_type": "code",
   "execution_count": null,
   "metadata": {
    "collapsed": false
   },
   "outputs": [],
   "source": [
    "#this is the one making the most sense\n",
    "plt.axhline(y=4.0)\n",
    "#plt.scatter(final_df_no_duplicates_4.index, final_df_no_duplicates_4.user_rating, c='b', label='user ratings')\n",
    "#plt.scatter(final_df_no_duplicates_4.index, final_df_no_duplicates_4.friends_avg_rating, c='r', label='friends_avg')\n",
    "plt.scatter(final_df_no_duplicates_4.user_rating, final_df_no_duplicates_4.friends_avg_rating, c='b', label='user ratings')\n"
   ]
  },
  {
   "cell_type": "code",
   "execution_count": 128,
   "metadata": {
    "collapsed": false
   },
   "outputs": [],
   "source": [
    "plt.show()"
   ]
  },
  {
   "cell_type": "code",
   "execution_count": null,
   "metadata": {
    "collapsed": true
   },
   "outputs": [],
   "source": []
  }
 ],
 "metadata": {
  "kernelspec": {
   "display_name": "Python 2",
   "language": "python",
   "name": "python2"
  },
  "language_info": {
   "codemirror_mode": {
    "name": "ipython",
    "version": 2
   },
   "file_extension": ".py",
   "mimetype": "text/x-python",
   "name": "python",
   "nbconvert_exporter": "python",
   "pygments_lexer": "ipython2",
   "version": "2.7.10"
  }
 },
 "nbformat": 4,
 "nbformat_minor": 0
}
